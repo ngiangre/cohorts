{
 "cells": [
  {
   "cell_type": "markdown",
   "metadata": {},
   "source": [
    "# Introduction to _cohorts_"
   ]
  },
  {
   "cell_type": "markdown",
   "metadata": {},
   "source": [
    "By Nick Giangreco,\n",
    "\n",
    "Tatonetti Lab, \n",
    "\n",
    "Columbia University,\n",
    "\n",
    "Created on:"
   ]
  },
  {
   "cell_type": "code",
   "execution_count": 1,
   "metadata": {},
   "outputs": [
    {
     "name": "stdout",
     "output_type": "stream",
     "text": [
      "Fri Jan 11 14:10:00 EST 2019\r\n"
     ]
    }
   ],
   "source": [
    "!date"
   ]
  },
  {
   "cell_type": "markdown",
   "metadata": {},
   "source": [
    "_cohorts_ provides feasible data management for clinical proteomic experiments. Below we go over examples of loading and retrieving sample data. "
   ]
  },
  {
   "cell_type": "markdown",
   "metadata": {},
   "source": [
    "<hr>\n",
    "\n",
    "load libraries"
   ]
  },
  {
   "cell_type": "code",
   "execution_count": 2,
   "metadata": {
    "nbpresent": {
     "id": "24799cf3-8a2c-41b4-98c0-2861feeaa846"
    }
   },
   "outputs": [],
   "source": [
    "import cohorts\n",
    "import pandas as pd\n",
    "import numpy as np"
   ]
  },
  {
   "cell_type": "markdown",
   "metadata": {},
   "source": [
    "package doctstring"
   ]
  },
  {
   "cell_type": "code",
   "execution_count": 3,
   "metadata": {},
   "outputs": [
    {
     "name": "stdout",
     "output_type": "stream",
     "text": [
      "\n",
      "\tPatient cohort object for patient proteomics data.\n",
      "\n",
      "\tDataframes, variables, and functions facilitating the processing, analysis, and integration of the cohort data.\n",
      "\n",
      "\tParameters\n",
      "\t----------\n",
      "\tcohort: str\n",
      "\t\tname of the patient cohort\n",
      "\n",
      "\tfile_dir: str\n",
      "\t\tdirectory where replicate dataframe and \n",
      "\t\tsample group membership dataframe file names are located\n",
      "\n",
      "\treplicates_file: str\n",
      "\t\tname of the replicates dataframe file\n",
      "\n",
      "\t\tA markers x B replicates\n",
      "\t\tcomma (*.csv) or tab (*.tsv) delimited\n",
      "\n",
      "\t\treplicate = \"SampleName\" + \"_Rep[0-9]\"\n",
      "\n",
      "\tsample_groups_file: str\n",
      "\t\tname of the sample group file\n",
      "\t\tcomma (*.csv) or tab (*.tsv) delimited\n",
      "\n",
      "\t\tN groups x M samples\n",
      "\n",
      "\t\tsample = \"SampleName\"\n",
      "\n",
      "\tdata_dir: str\n",
      "\t\tdirectory where extra data files are located\n",
      "\t\t\n",
      "\tuniprot_file: str\n",
      "\t\tname of the uniprot database flat file located in data_dir\n",
      "\n",
      "\tExamples\n",
      "\t--------\n",
      "\t>>>c = cohorts.Cohort(cohort='cohort_name',\n",
      "\t\tfile_dir=\"path/to/files/\",\n",
      "\t\treplicates_file=\"file_name\",\n",
      "\t\tsamples_file=\"file_name\",\n",
      "\t\tsample_groups_file=\"sample_groups_file_name\",\n",
      "\t\tdata_dir=\"path/to/data/dir/\",\n",
      "\t\tmarker_type=\"protein\",\n",
      "\t\treference=\"ref\",treatment=\"trt\"\n",
      "\t\t)\n",
      "\t>>>c.set_replicates_hq()\n",
      "\t>>>c.set_trans_replicates_hq()\n",
      "\t>>>c.set_samples_hq()\n",
      "\t>>>c.set_trans_samples_hq()\n",
      "\n",
      "\t\n"
     ]
    }
   ],
   "source": [
    "print(cohorts.Cohort.__doc__)"
   ]
  },
  {
   "cell_type": "markdown",
   "metadata": {},
   "source": [
    "reference location of replicate/sample data files and create cohort object. Referencing values in dictionaries is a way to upload many cohort data instead of just one."
   ]
  },
  {
   "cell_type": "code",
   "execution_count": 4,
   "metadata": {
    "nbpresent": {
     "id": "7f9017a5-6455-4867-a8a2-c3842b3f9d9c"
    },
    "scrolled": false
   },
   "outputs": [],
   "source": [
    "top = \"./\"\n",
    "data_dirs = { 'my_cohort' : \"../data/\" }\n",
    "file_dirs = { 'my_cohort' : top+\"sample_data/\" }\n",
    "replicates_files = { 'my_cohort' : \"df_replicates.tsv\" }\n",
    "#sample_files = { 'my_cohort' : \"df_samples.tsv\" }\n",
    "sample_groups_files = { 'my_cohort' : \"df_sample_groups.tsv\" }\n",
    "cohort = { 'my_cohort' : 'my_cohort' }\n",
    "references = { 'my_cohort' : 'ref' }\n",
    "treatments = { 'my_cohort' : 'trt' }\n",
    "for cohort_name in file_dirs.keys():\n",
    "    c = cohorts.Cohort(cohort=cohort[cohort_name],marker_type=\"protein\",\n",
    "                       data_dir=data_dirs[cohort_name],file_dir=file_dirs[cohort_name],\n",
    "                       replicates_file=replicates_files[cohort_name],\n",
    "                       #sample_files=sample_files[cohort],\n",
    "                       sample_groups_file=sample_groups_files[cohort_name],\n",
    "                       reference=references[cohort_name],\n",
    "                       treatment=treatments[cohort_name])"
   ]
  },
  {
   "cell_type": "markdown",
   "metadata": {},
   "source": [
    "list and display all object attributes"
   ]
  },
  {
   "cell_type": "code",
   "execution_count": 5,
   "metadata": {
    "scrolled": false
   },
   "outputs": [
    {
     "name": "stdout",
     "output_type": "stream",
     "text": [
      "======\n",
      "Attribute: cwd\n"
     ]
    },
    {
     "data": {
      "text/plain": [
       "'/Users/npg2108/GitHub/cohorts'"
      ]
     },
     "metadata": {},
     "output_type": "display_data"
    },
    {
     "name": "stdout",
     "output_type": "stream",
     "text": [
      "======\n",
      "Attribute: data_dir\n"
     ]
    },
    {
     "data": {
      "text/plain": [
       "'../data/'"
      ]
     },
     "metadata": {},
     "output_type": "display_data"
    },
    {
     "name": "stdout",
     "output_type": "stream",
     "text": [
      "======\n",
      "Attribute: file_dir\n"
     ]
    },
    {
     "data": {
      "text/plain": [
       "'./sample_data/'"
      ]
     },
     "metadata": {},
     "output_type": "display_data"
    },
    {
     "name": "stdout",
     "output_type": "stream",
     "text": [
      "======\n",
      "Attribute: cohort\n"
     ]
    },
    {
     "data": {
      "text/plain": [
       "'my_cohort'"
      ]
     },
     "metadata": {},
     "output_type": "display_data"
    },
    {
     "name": "stdout",
     "output_type": "stream",
     "text": [
      "======\n",
      "Attribute: marker_type\n"
     ]
    },
    {
     "data": {
      "text/plain": [
       "'protein'"
      ]
     },
     "metadata": {},
     "output_type": "display_data"
    },
    {
     "name": "stdout",
     "output_type": "stream",
     "text": [
      "======\n",
      "Attribute: reference\n"
     ]
    },
    {
     "data": {
      "text/plain": [
       "'ref'"
      ]
     },
     "metadata": {},
     "output_type": "display_data"
    },
    {
     "name": "stdout",
     "output_type": "stream",
     "text": [
      "======\n",
      "Attribute: treat\n"
     ]
    },
    {
     "data": {
      "text/plain": [
       "'trt'"
      ]
     },
     "metadata": {},
     "output_type": "display_data"
    },
    {
     "name": "stdout",
     "output_type": "stream",
     "text": [
      "======\n",
      "Attribute: data\n"
     ]
    },
    {
     "data": {
      "text/plain": [
       "{}"
      ]
     },
     "metadata": {},
     "output_type": "display_data"
    },
    {
     "name": "stdout",
     "output_type": "stream",
     "text": [
      "======\n",
      "Attribute: params\n"
     ]
    },
    {
     "data": {
      "text/plain": [
       "{}"
      ]
     },
     "metadata": {},
     "output_type": "display_data"
    },
    {
     "name": "stdout",
     "output_type": "stream",
     "text": [
      "======\n",
      "Attribute: replicates_file\n"
     ]
    },
    {
     "data": {
      "text/plain": [
       "'./sample_data/df_replicates.tsv'"
      ]
     },
     "metadata": {},
     "output_type": "display_data"
    },
    {
     "name": "stdout",
     "output_type": "stream",
     "text": [
      "======\n",
      "Attribute: raw_replicates\n"
     ]
    },
    {
     "data": {
      "text/html": [
       "<div>\n",
       "<style scoped>\n",
       "    .dataframe tbody tr th:only-of-type {\n",
       "        vertical-align: middle;\n",
       "    }\n",
       "\n",
       "    .dataframe tbody tr th {\n",
       "        vertical-align: top;\n",
       "    }\n",
       "\n",
       "    .dataframe thead th {\n",
       "        text-align: right;\n",
       "    }\n",
       "</style>\n",
       "<table border=\"1\" class=\"dataframe\">\n",
       "  <thead>\n",
       "    <tr style=\"text-align: right;\">\n",
       "      <th>replicate</th>\n",
       "      <th>S10_Rep1</th>\n",
       "      <th>S10_Rep2</th>\n",
       "      <th>S1_Rep1</th>\n",
       "      <th>S1_Rep2</th>\n",
       "      <th>S2_Rep1</th>\n",
       "      <th>S2_Rep2</th>\n",
       "      <th>S3_Rep1</th>\n",
       "      <th>S3_Rep2</th>\n",
       "      <th>S4_Rep1</th>\n",
       "      <th>S4_Rep2</th>\n",
       "      <th>S5_Rep1</th>\n",
       "      <th>S5_Rep2</th>\n",
       "      <th>S6_Rep1</th>\n",
       "      <th>S6_Rep2</th>\n",
       "      <th>S7_Rep1</th>\n",
       "      <th>S7_Rep2</th>\n",
       "      <th>S8_Rep1</th>\n",
       "      <th>S8_Rep2</th>\n",
       "      <th>S9_Rep1</th>\n",
       "      <th>S9_Rep2</th>\n",
       "    </tr>\n",
       "    <tr>\n",
       "      <th>protein</th>\n",
       "      <th></th>\n",
       "      <th></th>\n",
       "      <th></th>\n",
       "      <th></th>\n",
       "      <th></th>\n",
       "      <th></th>\n",
       "      <th></th>\n",
       "      <th></th>\n",
       "      <th></th>\n",
       "      <th></th>\n",
       "      <th></th>\n",
       "      <th></th>\n",
       "      <th></th>\n",
       "      <th></th>\n",
       "      <th></th>\n",
       "      <th></th>\n",
       "      <th></th>\n",
       "      <th></th>\n",
       "      <th></th>\n",
       "      <th></th>\n",
       "    </tr>\n",
       "  </thead>\n",
       "  <tbody>\n",
       "    <tr>\n",
       "      <th>E7EX29</th>\n",
       "      <td>0.253792</td>\n",
       "      <td>1.087729</td>\n",
       "      <td>0.149481</td>\n",
       "      <td>2.053516</td>\n",
       "      <td>3.037599</td>\n",
       "      <td>5.964263</td>\n",
       "      <td>4.157681</td>\n",
       "      <td>0.188391</td>\n",
       "      <td>0.813936</td>\n",
       "      <td>0.677083</td>\n",
       "      <td>5.837721</td>\n",
       "      <td>0.069577</td>\n",
       "      <td>6.186786</td>\n",
       "      <td>0.057936</td>\n",
       "      <td>0.934894</td>\n",
       "      <td>1.821285</td>\n",
       "      <td>1.563145</td>\n",
       "      <td>0.019960</td>\n",
       "      <td>1.941475</td>\n",
       "      <td>1.974945</td>\n",
       "    </tr>\n",
       "    <tr>\n",
       "      <th>P03950</th>\n",
       "      <td>1.677903</td>\n",
       "      <td>0.062905</td>\n",
       "      <td>0.130443</td>\n",
       "      <td>1.757802</td>\n",
       "      <td>0.128779</td>\n",
       "      <td>8.843484</td>\n",
       "      <td>1.631858</td>\n",
       "      <td>0.793760</td>\n",
       "      <td>1.259065</td>\n",
       "      <td>0.449888</td>\n",
       "      <td>1.928262</td>\n",
       "      <td>6.979252</td>\n",
       "      <td>0.123259</td>\n",
       "      <td>1.813966</td>\n",
       "      <td>2.449086</td>\n",
       "      <td>1.829101</td>\n",
       "      <td>1.814236</td>\n",
       "      <td>0.461961</td>\n",
       "      <td>3.649763</td>\n",
       "      <td>1.668531</td>\n",
       "    </tr>\n",
       "    <tr>\n",
       "      <th>P05067</th>\n",
       "      <td>0.154004</td>\n",
       "      <td>0.679204</td>\n",
       "      <td>1.236821</td>\n",
       "      <td>0.471862</td>\n",
       "      <td>2.389814</td>\n",
       "      <td>1.303882</td>\n",
       "      <td>1.266359</td>\n",
       "      <td>0.086080</td>\n",
       "      <td>6.453779</td>\n",
       "      <td>1.939326</td>\n",
       "      <td>0.022999</td>\n",
       "      <td>0.727739</td>\n",
       "      <td>2.046208</td>\n",
       "      <td>0.426685</td>\n",
       "      <td>0.629988</td>\n",
       "      <td>2.800356</td>\n",
       "      <td>1.469509</td>\n",
       "      <td>0.166566</td>\n",
       "      <td>0.252259</td>\n",
       "      <td>1.162723</td>\n",
       "    </tr>\n",
       "    <tr>\n",
       "      <th>P08253</th>\n",
       "      <td>1.727277</td>\n",
       "      <td>0.194510</td>\n",
       "      <td>4.138503</td>\n",
       "      <td>2.957753</td>\n",
       "      <td>3.301363</td>\n",
       "      <td>3.318573</td>\n",
       "      <td>1.679812</td>\n",
       "      <td>2.230627</td>\n",
       "      <td>0.185921</td>\n",
       "      <td>1.654027</td>\n",
       "      <td>6.638652</td>\n",
       "      <td>0.029934</td>\n",
       "      <td>0.481634</td>\n",
       "      <td>1.524587</td>\n",
       "      <td>3.127116</td>\n",
       "      <td>0.263210</td>\n",
       "      <td>0.150799</td>\n",
       "      <td>0.279406</td>\n",
       "      <td>1.209538</td>\n",
       "      <td>0.179421</td>\n",
       "    </tr>\n",
       "    <tr>\n",
       "      <th>P15144</th>\n",
       "      <td>0.472723</td>\n",
       "      <td>0.550554</td>\n",
       "      <td>0.255550</td>\n",
       "      <td>2.411256</td>\n",
       "      <td>1.928251</td>\n",
       "      <td>3.723331</td>\n",
       "      <td>4.535285</td>\n",
       "      <td>0.430090</td>\n",
       "      <td>1.111790</td>\n",
       "      <td>0.324844</td>\n",
       "      <td>0.486702</td>\n",
       "      <td>0.079792</td>\n",
       "      <td>1.483877</td>\n",
       "      <td>1.077788</td>\n",
       "      <td>1.314104</td>\n",
       "      <td>1.503998</td>\n",
       "      <td>6.428053</td>\n",
       "      <td>0.885775</td>\n",
       "      <td>0.200301</td>\n",
       "      <td>1.755838</td>\n",
       "    </tr>\n",
       "    <tr>\n",
       "      <th>P27338</th>\n",
       "      <td>1.519582</td>\n",
       "      <td>1.365242</td>\n",
       "      <td>3.052645</td>\n",
       "      <td>1.775733</td>\n",
       "      <td>1.290674</td>\n",
       "      <td>0.591302</td>\n",
       "      <td>0.639530</td>\n",
       "      <td>3.117910</td>\n",
       "      <td>3.798739</td>\n",
       "      <td>4.480130</td>\n",
       "      <td>1.858277</td>\n",
       "      <td>0.511355</td>\n",
       "      <td>1.088460</td>\n",
       "      <td>1.430493</td>\n",
       "      <td>0.885788</td>\n",
       "      <td>0.926497</td>\n",
       "      <td>0.352006</td>\n",
       "      <td>2.361366</td>\n",
       "      <td>0.203646</td>\n",
       "      <td>3.584422</td>\n",
       "    </tr>\n",
       "    <tr>\n",
       "      <th>P52209</th>\n",
       "      <td>0.950052</td>\n",
       "      <td>1.363650</td>\n",
       "      <td>1.943969</td>\n",
       "      <td>3.229349</td>\n",
       "      <td>0.471518</td>\n",
       "      <td>1.382442</td>\n",
       "      <td>2.091458</td>\n",
       "      <td>0.151489</td>\n",
       "      <td>1.224772</td>\n",
       "      <td>2.312973</td>\n",
       "      <td>2.028351</td>\n",
       "      <td>1.093566</td>\n",
       "      <td>0.839449</td>\n",
       "      <td>1.013874</td>\n",
       "      <td>4.713056</td>\n",
       "      <td>1.057071</td>\n",
       "      <td>2.521357</td>\n",
       "      <td>0.794442</td>\n",
       "      <td>1.021352</td>\n",
       "      <td>1.767809</td>\n",
       "    </tr>\n",
       "    <tr>\n",
       "      <th>P62191</th>\n",
       "      <td>0.608682</td>\n",
       "      <td>2.359174</td>\n",
       "      <td>0.297749</td>\n",
       "      <td>1.424451</td>\n",
       "      <td>6.018827</td>\n",
       "      <td>0.793361</td>\n",
       "      <td>0.254082</td>\n",
       "      <td>1.721231</td>\n",
       "      <td>0.050617</td>\n",
       "      <td>0.557509</td>\n",
       "      <td>0.838415</td>\n",
       "      <td>4.036523</td>\n",
       "      <td>1.649978</td>\n",
       "      <td>1.027199</td>\n",
       "      <td>0.547586</td>\n",
       "      <td>0.912731</td>\n",
       "      <td>0.559606</td>\n",
       "      <td>1.590484</td>\n",
       "      <td>4.451425</td>\n",
       "      <td>0.149606</td>\n",
       "    </tr>\n",
       "    <tr>\n",
       "      <th>Q8N302</th>\n",
       "      <td>0.429062</td>\n",
       "      <td>1.029881</td>\n",
       "      <td>2.206134</td>\n",
       "      <td>1.985280</td>\n",
       "      <td>0.265896</td>\n",
       "      <td>5.419691</td>\n",
       "      <td>2.754084</td>\n",
       "      <td>0.310830</td>\n",
       "      <td>0.772327</td>\n",
       "      <td>0.465013</td>\n",
       "      <td>0.799090</td>\n",
       "      <td>6.404377</td>\n",
       "      <td>2.099387</td>\n",
       "      <td>0.196294</td>\n",
       "      <td>0.177883</td>\n",
       "      <td>0.385353</td>\n",
       "      <td>1.334864</td>\n",
       "      <td>0.139507</td>\n",
       "      <td>2.107030</td>\n",
       "      <td>0.773830</td>\n",
       "    </tr>\n",
       "    <tr>\n",
       "      <th>Q99460</th>\n",
       "      <td>3.827199</td>\n",
       "      <td>1.503086</td>\n",
       "      <td>5.090728</td>\n",
       "      <td>1.895142</td>\n",
       "      <td>17.456401</td>\n",
       "      <td>7.076258</td>\n",
       "      <td>3.047849</td>\n",
       "      <td>2.385445</td>\n",
       "      <td>0.280360</td>\n",
       "      <td>0.063325</td>\n",
       "      <td>0.523622</td>\n",
       "      <td>1.480141</td>\n",
       "      <td>2.782887</td>\n",
       "      <td>0.548092</td>\n",
       "      <td>0.214613</td>\n",
       "      <td>2.693878</td>\n",
       "      <td>0.140898</td>\n",
       "      <td>0.493747</td>\n",
       "      <td>6.606491</td>\n",
       "      <td>0.435355</td>\n",
       "    </tr>\n",
       "    <tr>\n",
       "      <th>Q9UJX5</th>\n",
       "      <td>1.198494</td>\n",
       "      <td>3.040728</td>\n",
       "      <td>2.357590</td>\n",
       "      <td>0.028950</td>\n",
       "      <td>1.544482</td>\n",
       "      <td>1.081316</td>\n",
       "      <td>0.170231</td>\n",
       "      <td>0.952228</td>\n",
       "      <td>0.298905</td>\n",
       "      <td>3.506452</td>\n",
       "      <td>3.781125</td>\n",
       "      <td>3.995331</td>\n",
       "      <td>4.200454</td>\n",
       "      <td>1.123743</td>\n",
       "      <td>1.434191</td>\n",
       "      <td>0.875040</td>\n",
       "      <td>0.198311</td>\n",
       "      <td>3.660090</td>\n",
       "      <td>1.909681</td>\n",
       "      <td>7.572673</td>\n",
       "    </tr>\n",
       "    <tr>\n",
       "      <th>Q9Y5C1</th>\n",
       "      <td>1.375878</td>\n",
       "      <td>0.916113</td>\n",
       "      <td>1.454107</td>\n",
       "      <td>2.013635</td>\n",
       "      <td>3.536816</td>\n",
       "      <td>2.435065</td>\n",
       "      <td>0.440163</td>\n",
       "      <td>1.542807</td>\n",
       "      <td>0.613358</td>\n",
       "      <td>2.594628</td>\n",
       "      <td>1.608787</td>\n",
       "      <td>2.377659</td>\n",
       "      <td>1.246758</td>\n",
       "      <td>1.391606</td>\n",
       "      <td>1.436168</td>\n",
       "      <td>1.098465</td>\n",
       "      <td>0.163029</td>\n",
       "      <td>2.281364</td>\n",
       "      <td>5.835372</td>\n",
       "      <td>0.839526</td>\n",
       "    </tr>\n",
       "  </tbody>\n",
       "</table>\n",
       "</div>"
      ],
      "text/plain": [
       "replicate  S10_Rep1  S10_Rep2   S1_Rep1   S1_Rep2    S2_Rep1   S2_Rep2  \\\n",
       "protein                                                                  \n",
       "E7EX29     0.253792  1.087729  0.149481  2.053516   3.037599  5.964263   \n",
       "P03950     1.677903  0.062905  0.130443  1.757802   0.128779  8.843484   \n",
       "P05067     0.154004  0.679204  1.236821  0.471862   2.389814  1.303882   \n",
       "P08253     1.727277  0.194510  4.138503  2.957753   3.301363  3.318573   \n",
       "P15144     0.472723  0.550554  0.255550  2.411256   1.928251  3.723331   \n",
       "P27338     1.519582  1.365242  3.052645  1.775733   1.290674  0.591302   \n",
       "P52209     0.950052  1.363650  1.943969  3.229349   0.471518  1.382442   \n",
       "P62191     0.608682  2.359174  0.297749  1.424451   6.018827  0.793361   \n",
       "Q8N302     0.429062  1.029881  2.206134  1.985280   0.265896  5.419691   \n",
       "Q99460     3.827199  1.503086  5.090728  1.895142  17.456401  7.076258   \n",
       "Q9UJX5     1.198494  3.040728  2.357590  0.028950   1.544482  1.081316   \n",
       "Q9Y5C1     1.375878  0.916113  1.454107  2.013635   3.536816  2.435065   \n",
       "\n",
       "replicate   S3_Rep1   S3_Rep2   S4_Rep1   S4_Rep2   S5_Rep1   S5_Rep2  \\\n",
       "protein                                                                 \n",
       "E7EX29     4.157681  0.188391  0.813936  0.677083  5.837721  0.069577   \n",
       "P03950     1.631858  0.793760  1.259065  0.449888  1.928262  6.979252   \n",
       "P05067     1.266359  0.086080  6.453779  1.939326  0.022999  0.727739   \n",
       "P08253     1.679812  2.230627  0.185921  1.654027  6.638652  0.029934   \n",
       "P15144     4.535285  0.430090  1.111790  0.324844  0.486702  0.079792   \n",
       "P27338     0.639530  3.117910  3.798739  4.480130  1.858277  0.511355   \n",
       "P52209     2.091458  0.151489  1.224772  2.312973  2.028351  1.093566   \n",
       "P62191     0.254082  1.721231  0.050617  0.557509  0.838415  4.036523   \n",
       "Q8N302     2.754084  0.310830  0.772327  0.465013  0.799090  6.404377   \n",
       "Q99460     3.047849  2.385445  0.280360  0.063325  0.523622  1.480141   \n",
       "Q9UJX5     0.170231  0.952228  0.298905  3.506452  3.781125  3.995331   \n",
       "Q9Y5C1     0.440163  1.542807  0.613358  2.594628  1.608787  2.377659   \n",
       "\n",
       "replicate   S6_Rep1   S6_Rep2   S7_Rep1   S7_Rep2   S8_Rep1   S8_Rep2  \\\n",
       "protein                                                                 \n",
       "E7EX29     6.186786  0.057936  0.934894  1.821285  1.563145  0.019960   \n",
       "P03950     0.123259  1.813966  2.449086  1.829101  1.814236  0.461961   \n",
       "P05067     2.046208  0.426685  0.629988  2.800356  1.469509  0.166566   \n",
       "P08253     0.481634  1.524587  3.127116  0.263210  0.150799  0.279406   \n",
       "P15144     1.483877  1.077788  1.314104  1.503998  6.428053  0.885775   \n",
       "P27338     1.088460  1.430493  0.885788  0.926497  0.352006  2.361366   \n",
       "P52209     0.839449  1.013874  4.713056  1.057071  2.521357  0.794442   \n",
       "P62191     1.649978  1.027199  0.547586  0.912731  0.559606  1.590484   \n",
       "Q8N302     2.099387  0.196294  0.177883  0.385353  1.334864  0.139507   \n",
       "Q99460     2.782887  0.548092  0.214613  2.693878  0.140898  0.493747   \n",
       "Q9UJX5     4.200454  1.123743  1.434191  0.875040  0.198311  3.660090   \n",
       "Q9Y5C1     1.246758  1.391606  1.436168  1.098465  0.163029  2.281364   \n",
       "\n",
       "replicate   S9_Rep1   S9_Rep2  \n",
       "protein                        \n",
       "E7EX29     1.941475  1.974945  \n",
       "P03950     3.649763  1.668531  \n",
       "P05067     0.252259  1.162723  \n",
       "P08253     1.209538  0.179421  \n",
       "P15144     0.200301  1.755838  \n",
       "P27338     0.203646  3.584422  \n",
       "P52209     1.021352  1.767809  \n",
       "P62191     4.451425  0.149606  \n",
       "Q8N302     2.107030  0.773830  \n",
       "Q99460     6.606491  0.435355  \n",
       "Q9UJX5     1.909681  7.572673  \n",
       "Q9Y5C1     5.835372  0.839526  "
      ]
     },
     "metadata": {},
     "output_type": "display_data"
    },
    {
     "name": "stdout",
     "output_type": "stream",
     "text": [
      "======\n",
      "Attribute: replicates_hq\n"
     ]
    },
    {
     "data": {
      "text/plain": [
       "None"
      ]
     },
     "metadata": {},
     "output_type": "display_data"
    },
    {
     "name": "stdout",
     "output_type": "stream",
     "text": [
      "======\n",
      "Attribute: trans_replicates_hq\n"
     ]
    },
    {
     "data": {
      "text/plain": [
       "None"
      ]
     },
     "metadata": {},
     "output_type": "display_data"
    },
    {
     "name": "stdout",
     "output_type": "stream",
     "text": [
      "======\n",
      "Attribute: sample_replicate_dictionary\n"
     ]
    },
    {
     "data": {
      "text/plain": [
       "{'S1': ['S1_Rep1', 'S1_Rep2'],\n",
       " 'S10': ['S10_Rep1', 'S10_Rep2'],\n",
       " 'S2': ['S2_Rep1', 'S2_Rep2'],\n",
       " 'S3': ['S3_Rep1', 'S3_Rep2'],\n",
       " 'S4': ['S4_Rep1', 'S4_Rep2'],\n",
       " 'S5': ['S5_Rep1', 'S5_Rep2'],\n",
       " 'S6': ['S6_Rep1', 'S6_Rep2'],\n",
       " 'S7': ['S7_Rep1', 'S7_Rep2'],\n",
       " 'S8': ['S8_Rep1', 'S8_Rep2'],\n",
       " 'S9': ['S9_Rep1', 'S9_Rep2']}"
      ]
     },
     "metadata": {},
     "output_type": "display_data"
    },
    {
     "name": "stdout",
     "output_type": "stream",
     "text": [
      "======\n",
      "Attribute: replicate_groups\n"
     ]
    },
    {
     "data": {
      "text/html": [
       "<div>\n",
       "<style scoped>\n",
       "    .dataframe tbody tr th:only-of-type {\n",
       "        vertical-align: middle;\n",
       "    }\n",
       "\n",
       "    .dataframe tbody tr th {\n",
       "        vertical-align: top;\n",
       "    }\n",
       "\n",
       "    .dataframe thead th {\n",
       "        text-align: right;\n",
       "    }\n",
       "</style>\n",
       "<table border=\"1\" class=\"dataframe\">\n",
       "  <thead>\n",
       "    <tr style=\"text-align: right;\">\n",
       "      <th>replicate</th>\n",
       "      <th>S10_Rep1</th>\n",
       "      <th>S10_Rep2</th>\n",
       "      <th>S1_Rep1</th>\n",
       "      <th>S1_Rep2</th>\n",
       "      <th>S2_Rep1</th>\n",
       "      <th>S2_Rep2</th>\n",
       "      <th>S3_Rep1</th>\n",
       "      <th>S3_Rep2</th>\n",
       "      <th>S4_Rep1</th>\n",
       "      <th>S4_Rep2</th>\n",
       "      <th>S5_Rep1</th>\n",
       "      <th>S5_Rep2</th>\n",
       "      <th>S6_Rep1</th>\n",
       "      <th>S6_Rep2</th>\n",
       "      <th>S7_Rep1</th>\n",
       "      <th>S7_Rep2</th>\n",
       "      <th>S8_Rep1</th>\n",
       "      <th>S8_Rep2</th>\n",
       "      <th>S9_Rep1</th>\n",
       "      <th>S9_Rep2</th>\n",
       "    </tr>\n",
       "    <tr>\n",
       "      <th>group</th>\n",
       "      <th></th>\n",
       "      <th></th>\n",
       "      <th></th>\n",
       "      <th></th>\n",
       "      <th></th>\n",
       "      <th></th>\n",
       "      <th></th>\n",
       "      <th></th>\n",
       "      <th></th>\n",
       "      <th></th>\n",
       "      <th></th>\n",
       "      <th></th>\n",
       "      <th></th>\n",
       "      <th></th>\n",
       "      <th></th>\n",
       "      <th></th>\n",
       "      <th></th>\n",
       "      <th></th>\n",
       "      <th></th>\n",
       "      <th></th>\n",
       "    </tr>\n",
       "  </thead>\n",
       "  <tbody>\n",
       "    <tr>\n",
       "      <th>cov</th>\n",
       "      <td>0</td>\n",
       "      <td>0</td>\n",
       "      <td>1</td>\n",
       "      <td>1</td>\n",
       "      <td>1</td>\n",
       "      <td>1</td>\n",
       "      <td>0</td>\n",
       "      <td>0</td>\n",
       "      <td>0</td>\n",
       "      <td>0</td>\n",
       "      <td>0</td>\n",
       "      <td>0</td>\n",
       "      <td>0</td>\n",
       "      <td>0</td>\n",
       "      <td>0</td>\n",
       "      <td>0</td>\n",
       "      <td>0</td>\n",
       "      <td>0</td>\n",
       "      <td>0</td>\n",
       "      <td>0</td>\n",
       "    </tr>\n",
       "    <tr>\n",
       "      <th>ref</th>\n",
       "      <td>1</td>\n",
       "      <td>1</td>\n",
       "      <td>0</td>\n",
       "      <td>0</td>\n",
       "      <td>0</td>\n",
       "      <td>0</td>\n",
       "      <td>0</td>\n",
       "      <td>0</td>\n",
       "      <td>0</td>\n",
       "      <td>0</td>\n",
       "      <td>0</td>\n",
       "      <td>0</td>\n",
       "      <td>1</td>\n",
       "      <td>1</td>\n",
       "      <td>1</td>\n",
       "      <td>1</td>\n",
       "      <td>1</td>\n",
       "      <td>1</td>\n",
       "      <td>1</td>\n",
       "      <td>1</td>\n",
       "    </tr>\n",
       "    <tr>\n",
       "      <th>trt</th>\n",
       "      <td>0</td>\n",
       "      <td>0</td>\n",
       "      <td>1</td>\n",
       "      <td>1</td>\n",
       "      <td>1</td>\n",
       "      <td>1</td>\n",
       "      <td>1</td>\n",
       "      <td>1</td>\n",
       "      <td>1</td>\n",
       "      <td>1</td>\n",
       "      <td>1</td>\n",
       "      <td>1</td>\n",
       "      <td>0</td>\n",
       "      <td>0</td>\n",
       "      <td>0</td>\n",
       "      <td>0</td>\n",
       "      <td>0</td>\n",
       "      <td>0</td>\n",
       "      <td>0</td>\n",
       "      <td>0</td>\n",
       "    </tr>\n",
       "  </tbody>\n",
       "</table>\n",
       "</div>"
      ],
      "text/plain": [
       "replicate  S10_Rep1  S10_Rep2  S1_Rep1  S1_Rep2  S2_Rep1  S2_Rep2  S3_Rep1  \\\n",
       "group                                                                        \n",
       "cov               0         0        1        1        1        1        0   \n",
       "ref               1         1        0        0        0        0        0   \n",
       "trt               0         0        1        1        1        1        1   \n",
       "\n",
       "replicate  S3_Rep2  S4_Rep1  S4_Rep2  S5_Rep1  S5_Rep2  S6_Rep1  S6_Rep2  \\\n",
       "group                                                                      \n",
       "cov              0        0        0        0        0        0        0   \n",
       "ref              0        0        0        0        0        1        1   \n",
       "trt              1        1        1        1        1        0        0   \n",
       "\n",
       "replicate  S7_Rep1  S7_Rep2  S8_Rep1  S8_Rep2  S9_Rep1  S9_Rep2  \n",
       "group                                                            \n",
       "cov              0        0        0        0        0        0  \n",
       "ref              1        1        1        1        1        1  \n",
       "trt              0        0        0        0        0        0  "
      ]
     },
     "metadata": {},
     "output_type": "display_data"
    },
    {
     "name": "stdout",
     "output_type": "stream",
     "text": [
      "======\n",
      "Attribute: replicates\n"
     ]
    },
    {
     "data": {
      "text/plain": [
       "['S10_Rep1',\n",
       " 'S10_Rep2',\n",
       " 'S1_Rep1',\n",
       " 'S1_Rep2',\n",
       " 'S2_Rep1',\n",
       " 'S2_Rep2',\n",
       " 'S3_Rep1',\n",
       " 'S3_Rep2',\n",
       " 'S4_Rep1',\n",
       " 'S4_Rep2',\n",
       " 'S5_Rep1',\n",
       " 'S5_Rep2',\n",
       " 'S6_Rep1',\n",
       " 'S6_Rep2',\n",
       " 'S7_Rep1',\n",
       " 'S7_Rep2',\n",
       " 'S8_Rep1',\n",
       " 'S8_Rep2',\n",
       " 'S9_Rep1',\n",
       " 'S9_Rep2']"
      ]
     },
     "metadata": {},
     "output_type": "display_data"
    },
    {
     "name": "stdout",
     "output_type": "stream",
     "text": [
      "======\n",
      "Attribute: samples_file\n"
     ]
    },
    {
     "data": {
      "text/plain": [
       "None"
      ]
     },
     "metadata": {},
     "output_type": "display_data"
    },
    {
     "name": "stdout",
     "output_type": "stream",
     "text": [
      "======\n",
      "Attribute: sample_groups_file\n"
     ]
    },
    {
     "data": {
      "text/plain": [
       "'./sample_data/df_sample_groups.tsv'"
      ]
     },
     "metadata": {},
     "output_type": "display_data"
    },
    {
     "name": "stdout",
     "output_type": "stream",
     "text": [
      "======\n",
      "Attribute: raw_samples\n"
     ]
    },
    {
     "data": {
      "text/html": [
       "<div>\n",
       "<style scoped>\n",
       "    .dataframe tbody tr th:only-of-type {\n",
       "        vertical-align: middle;\n",
       "    }\n",
       "\n",
       "    .dataframe tbody tr th {\n",
       "        vertical-align: top;\n",
       "    }\n",
       "\n",
       "    .dataframe thead th {\n",
       "        text-align: right;\n",
       "    }\n",
       "</style>\n",
       "<table border=\"1\" class=\"dataframe\">\n",
       "  <thead>\n",
       "    <tr style=\"text-align: right;\">\n",
       "      <th>sample</th>\n",
       "      <th>S10</th>\n",
       "      <th>S1</th>\n",
       "      <th>S2</th>\n",
       "      <th>S3</th>\n",
       "      <th>S4</th>\n",
       "      <th>S5</th>\n",
       "      <th>S6</th>\n",
       "      <th>S7</th>\n",
       "      <th>S8</th>\n",
       "      <th>S9</th>\n",
       "    </tr>\n",
       "    <tr>\n",
       "      <th>protein</th>\n",
       "      <th></th>\n",
       "      <th></th>\n",
       "      <th></th>\n",
       "      <th></th>\n",
       "      <th></th>\n",
       "      <th></th>\n",
       "      <th></th>\n",
       "      <th></th>\n",
       "      <th></th>\n",
       "      <th></th>\n",
       "    </tr>\n",
       "  </thead>\n",
       "  <tbody>\n",
       "    <tr>\n",
       "      <th>E7EX29</th>\n",
       "      <td>0.670761</td>\n",
       "      <td>1.101499</td>\n",
       "      <td>4.500931</td>\n",
       "      <td>2.173036</td>\n",
       "      <td>0.745509</td>\n",
       "      <td>2.953649</td>\n",
       "      <td>3.122361</td>\n",
       "      <td>1.378089</td>\n",
       "      <td>0.791552</td>\n",
       "      <td>1.958210</td>\n",
       "    </tr>\n",
       "    <tr>\n",
       "      <th>P03950</th>\n",
       "      <td>0.870404</td>\n",
       "      <td>0.944123</td>\n",
       "      <td>4.486131</td>\n",
       "      <td>1.212809</td>\n",
       "      <td>0.854477</td>\n",
       "      <td>4.453757</td>\n",
       "      <td>0.968612</td>\n",
       "      <td>2.139094</td>\n",
       "      <td>1.138099</td>\n",
       "      <td>2.659147</td>\n",
       "    </tr>\n",
       "    <tr>\n",
       "      <th>P05067</th>\n",
       "      <td>0.416604</td>\n",
       "      <td>0.854342</td>\n",
       "      <td>1.846848</td>\n",
       "      <td>0.676220</td>\n",
       "      <td>4.196553</td>\n",
       "      <td>0.375369</td>\n",
       "      <td>1.236447</td>\n",
       "      <td>1.715172</td>\n",
       "      <td>0.818037</td>\n",
       "      <td>0.707491</td>\n",
       "    </tr>\n",
       "    <tr>\n",
       "      <th>P08253</th>\n",
       "      <td>0.960894</td>\n",
       "      <td>3.548128</td>\n",
       "      <td>3.309968</td>\n",
       "      <td>1.955220</td>\n",
       "      <td>0.919974</td>\n",
       "      <td>3.334293</td>\n",
       "      <td>1.003111</td>\n",
       "      <td>1.695163</td>\n",
       "      <td>0.215103</td>\n",
       "      <td>0.694480</td>\n",
       "    </tr>\n",
       "    <tr>\n",
       "      <th>P15144</th>\n",
       "      <td>0.511639</td>\n",
       "      <td>1.333403</td>\n",
       "      <td>2.825791</td>\n",
       "      <td>2.482688</td>\n",
       "      <td>0.718317</td>\n",
       "      <td>0.283247</td>\n",
       "      <td>1.280832</td>\n",
       "      <td>1.409051</td>\n",
       "      <td>3.656914</td>\n",
       "      <td>0.978069</td>\n",
       "    </tr>\n",
       "    <tr>\n",
       "      <th>P27338</th>\n",
       "      <td>1.442412</td>\n",
       "      <td>2.414189</td>\n",
       "      <td>0.940988</td>\n",
       "      <td>1.878720</td>\n",
       "      <td>4.139435</td>\n",
       "      <td>1.184816</td>\n",
       "      <td>1.259476</td>\n",
       "      <td>0.906142</td>\n",
       "      <td>1.356686</td>\n",
       "      <td>1.894034</td>\n",
       "    </tr>\n",
       "    <tr>\n",
       "      <th>P52209</th>\n",
       "      <td>1.156851</td>\n",
       "      <td>2.586659</td>\n",
       "      <td>0.926980</td>\n",
       "      <td>1.121474</td>\n",
       "      <td>1.768872</td>\n",
       "      <td>1.560959</td>\n",
       "      <td>0.926662</td>\n",
       "      <td>2.885063</td>\n",
       "      <td>1.657899</td>\n",
       "      <td>1.394581</td>\n",
       "    </tr>\n",
       "    <tr>\n",
       "      <th>P62191</th>\n",
       "      <td>1.483928</td>\n",
       "      <td>0.861100</td>\n",
       "      <td>3.406094</td>\n",
       "      <td>0.987657</td>\n",
       "      <td>0.304063</td>\n",
       "      <td>2.437469</td>\n",
       "      <td>1.338589</td>\n",
       "      <td>0.730158</td>\n",
       "      <td>1.075045</td>\n",
       "      <td>2.300515</td>\n",
       "    </tr>\n",
       "    <tr>\n",
       "      <th>Q8N302</th>\n",
       "      <td>0.729472</td>\n",
       "      <td>2.095707</td>\n",
       "      <td>2.842793</td>\n",
       "      <td>1.532457</td>\n",
       "      <td>0.618670</td>\n",
       "      <td>3.601733</td>\n",
       "      <td>1.147841</td>\n",
       "      <td>0.281618</td>\n",
       "      <td>0.737186</td>\n",
       "      <td>1.440430</td>\n",
       "    </tr>\n",
       "    <tr>\n",
       "      <th>Q99460</th>\n",
       "      <td>2.665142</td>\n",
       "      <td>3.492935</td>\n",
       "      <td>12.266329</td>\n",
       "      <td>2.716647</td>\n",
       "      <td>0.171842</td>\n",
       "      <td>1.001882</td>\n",
       "      <td>1.665490</td>\n",
       "      <td>1.454245</td>\n",
       "      <td>0.317323</td>\n",
       "      <td>3.520923</td>\n",
       "    </tr>\n",
       "    <tr>\n",
       "      <th>Q9UJX5</th>\n",
       "      <td>2.119611</td>\n",
       "      <td>1.193270</td>\n",
       "      <td>1.312899</td>\n",
       "      <td>0.561229</td>\n",
       "      <td>1.902679</td>\n",
       "      <td>3.888228</td>\n",
       "      <td>2.662098</td>\n",
       "      <td>1.154616</td>\n",
       "      <td>1.929201</td>\n",
       "      <td>4.741177</td>\n",
       "    </tr>\n",
       "    <tr>\n",
       "      <th>Q9Y5C1</th>\n",
       "      <td>1.145995</td>\n",
       "      <td>1.733871</td>\n",
       "      <td>2.985940</td>\n",
       "      <td>0.991485</td>\n",
       "      <td>1.603993</td>\n",
       "      <td>1.993223</td>\n",
       "      <td>1.319182</td>\n",
       "      <td>1.267316</td>\n",
       "      <td>1.222197</td>\n",
       "      <td>3.337449</td>\n",
       "    </tr>\n",
       "  </tbody>\n",
       "</table>\n",
       "</div>"
      ],
      "text/plain": [
       "sample        S10        S1         S2        S3        S4        S5  \\\n",
       "protein                                                                \n",
       "E7EX29   0.670761  1.101499   4.500931  2.173036  0.745509  2.953649   \n",
       "P03950   0.870404  0.944123   4.486131  1.212809  0.854477  4.453757   \n",
       "P05067   0.416604  0.854342   1.846848  0.676220  4.196553  0.375369   \n",
       "P08253   0.960894  3.548128   3.309968  1.955220  0.919974  3.334293   \n",
       "P15144   0.511639  1.333403   2.825791  2.482688  0.718317  0.283247   \n",
       "P27338   1.442412  2.414189   0.940988  1.878720  4.139435  1.184816   \n",
       "P52209   1.156851  2.586659   0.926980  1.121474  1.768872  1.560959   \n",
       "P62191   1.483928  0.861100   3.406094  0.987657  0.304063  2.437469   \n",
       "Q8N302   0.729472  2.095707   2.842793  1.532457  0.618670  3.601733   \n",
       "Q99460   2.665142  3.492935  12.266329  2.716647  0.171842  1.001882   \n",
       "Q9UJX5   2.119611  1.193270   1.312899  0.561229  1.902679  3.888228   \n",
       "Q9Y5C1   1.145995  1.733871   2.985940  0.991485  1.603993  1.993223   \n",
       "\n",
       "sample         S6        S7        S8        S9  \n",
       "protein                                          \n",
       "E7EX29   3.122361  1.378089  0.791552  1.958210  \n",
       "P03950   0.968612  2.139094  1.138099  2.659147  \n",
       "P05067   1.236447  1.715172  0.818037  0.707491  \n",
       "P08253   1.003111  1.695163  0.215103  0.694480  \n",
       "P15144   1.280832  1.409051  3.656914  0.978069  \n",
       "P27338   1.259476  0.906142  1.356686  1.894034  \n",
       "P52209   0.926662  2.885063  1.657899  1.394581  \n",
       "P62191   1.338589  0.730158  1.075045  2.300515  \n",
       "Q8N302   1.147841  0.281618  0.737186  1.440430  \n",
       "Q99460   1.665490  1.454245  0.317323  3.520923  \n",
       "Q9UJX5   2.662098  1.154616  1.929201  4.741177  \n",
       "Q9Y5C1   1.319182  1.267316  1.222197  3.337449  "
      ]
     },
     "metadata": {},
     "output_type": "display_data"
    },
    {
     "name": "stdout",
     "output_type": "stream",
     "text": [
      "======\n",
      "Attribute: samples_hq\n"
     ]
    },
    {
     "data": {
      "text/plain": [
       "None"
      ]
     },
     "metadata": {},
     "output_type": "display_data"
    },
    {
     "name": "stdout",
     "output_type": "stream",
     "text": [
      "======\n",
      "Attribute: trans_samples_hq\n"
     ]
    },
    {
     "data": {
      "text/plain": [
       "None"
      ]
     },
     "metadata": {},
     "output_type": "display_data"
    },
    {
     "name": "stdout",
     "output_type": "stream",
     "text": [
      "======\n",
      "Attribute: samples\n"
     ]
    },
    {
     "data": {
      "text/plain": [
       "array(['S10', 'S1', 'S2', 'S3', 'S4', 'S5', 'S6', 'S7', 'S8', 'S9'],\n",
       "      dtype=object)"
      ]
     },
     "metadata": {},
     "output_type": "display_data"
    },
    {
     "name": "stdout",
     "output_type": "stream",
     "text": [
      "======\n",
      "Attribute: sample_groups\n"
     ]
    },
    {
     "data": {
      "text/html": [
       "<div>\n",
       "<style scoped>\n",
       "    .dataframe tbody tr th:only-of-type {\n",
       "        vertical-align: middle;\n",
       "    }\n",
       "\n",
       "    .dataframe tbody tr th {\n",
       "        vertical-align: top;\n",
       "    }\n",
       "\n",
       "    .dataframe thead th {\n",
       "        text-align: right;\n",
       "    }\n",
       "</style>\n",
       "<table border=\"1\" class=\"dataframe\">\n",
       "  <thead>\n",
       "    <tr style=\"text-align: right;\">\n",
       "      <th>sample</th>\n",
       "      <th>S1</th>\n",
       "      <th>S10</th>\n",
       "      <th>S2</th>\n",
       "      <th>S3</th>\n",
       "      <th>S4</th>\n",
       "      <th>S5</th>\n",
       "      <th>S6</th>\n",
       "      <th>S7</th>\n",
       "      <th>S8</th>\n",
       "      <th>S9</th>\n",
       "    </tr>\n",
       "    <tr>\n",
       "      <th>group</th>\n",
       "      <th></th>\n",
       "      <th></th>\n",
       "      <th></th>\n",
       "      <th></th>\n",
       "      <th></th>\n",
       "      <th></th>\n",
       "      <th></th>\n",
       "      <th></th>\n",
       "      <th></th>\n",
       "      <th></th>\n",
       "    </tr>\n",
       "  </thead>\n",
       "  <tbody>\n",
       "    <tr>\n",
       "      <th>cov</th>\n",
       "      <td>1</td>\n",
       "      <td>0</td>\n",
       "      <td>1</td>\n",
       "      <td>0</td>\n",
       "      <td>0</td>\n",
       "      <td>0</td>\n",
       "      <td>0</td>\n",
       "      <td>0</td>\n",
       "      <td>0</td>\n",
       "      <td>0</td>\n",
       "    </tr>\n",
       "    <tr>\n",
       "      <th>ref</th>\n",
       "      <td>0</td>\n",
       "      <td>1</td>\n",
       "      <td>0</td>\n",
       "      <td>0</td>\n",
       "      <td>0</td>\n",
       "      <td>0</td>\n",
       "      <td>1</td>\n",
       "      <td>1</td>\n",
       "      <td>1</td>\n",
       "      <td>1</td>\n",
       "    </tr>\n",
       "    <tr>\n",
       "      <th>trt</th>\n",
       "      <td>1</td>\n",
       "      <td>0</td>\n",
       "      <td>1</td>\n",
       "      <td>1</td>\n",
       "      <td>1</td>\n",
       "      <td>1</td>\n",
       "      <td>0</td>\n",
       "      <td>0</td>\n",
       "      <td>0</td>\n",
       "      <td>0</td>\n",
       "    </tr>\n",
       "  </tbody>\n",
       "</table>\n",
       "</div>"
      ],
      "text/plain": [
       "sample  S1  S10  S2  S3  S4  S5  S6  S7  S8  S9\n",
       "group                                          \n",
       "cov      1    0   1   0   0   0   0   0   0   0\n",
       "ref      0    1   0   0   0   0   1   1   1   1\n",
       "trt      1    0   1   1   1   1   0   0   0   0"
      ]
     },
     "metadata": {},
     "output_type": "display_data"
    },
    {
     "name": "stdout",
     "output_type": "stream",
     "text": [
      "======\n",
      "Attribute: groups\n"
     ]
    },
    {
     "data": {
      "text/plain": [
       "array(['cov', 'ref', 'trt'], dtype=object)"
      ]
     },
     "metadata": {},
     "output_type": "display_data"
    },
    {
     "name": "stdout",
     "output_type": "stream",
     "text": [
      "======\n",
      "Attribute: markers\n"
     ]
    },
    {
     "data": {
      "text/plain": [
       "['E7EX29',\n",
       " 'P03950',\n",
       " 'P05067',\n",
       " 'P08253',\n",
       " 'P15144',\n",
       " 'P27338',\n",
       " 'P52209',\n",
       " 'P62191',\n",
       " 'Q8N302',\n",
       " 'Q99460',\n",
       " 'Q9UJX5',\n",
       " 'Q9Y5C1']"
      ]
     },
     "metadata": {},
     "output_type": "display_data"
    }
   ],
   "source": [
    "for attribute in c.__dict__.keys():\n",
    "    attr = getattr(c,attribute)\n",
    "    print(\"======\")\n",
    "    print(\"Attribute:\",attribute)\n",
    "    display(attr)"
   ]
  },
  {
   "cell_type": "markdown",
   "metadata": {},
   "source": [
    "For each cohort object, there are attributes that:\n",
    "\n",
    "* define the location of the input data,\n",
    "* store fields parsed from the input data, such proteins, samples, datasets (as pandas dataframes), etc. \n",
    "* store further processed data (these fields, the *\\_hq attributes, are currently empty). These would be filled after an additional processing step outlined below \n",
    "* store cohort-specific data in a dictionary (these are currently empty and can be filled according to the user)."
   ]
  },
  {
   "cell_type": "markdown",
   "metadata": {},
   "source": [
    "For further processing the data, we would like to transform (or not) the replicate dataset and transform (or not) the samples dataset. \n",
    "\n",
    "Below all we do is agregate the replicates of a sample by taking the average:"
   ]
  },
  {
   "cell_type": "code",
   "execution_count": 6,
   "metadata": {},
   "outputs": [],
   "source": [
    "c.set_replicates_hq(all_reps_quant=True)\n",
    "c.set_trans_replicates_hq()\n",
    "c.set_samples_hq()\n",
    "c.set_trans_samples_hq()"
   ]
  },
  {
   "cell_type": "markdown",
   "metadata": {},
   "source": [
    "Let's say I want to make sure atleast one replicate per sample was quantified, average all replicates per sample, and then log2 transform the sample data"
   ]
  },
  {
   "cell_type": "code",
   "execution_count": 7,
   "metadata": {},
   "outputs": [],
   "source": [
    "c.set_replicates_hq(quant_least_reps_per_samps=True,n_reps=1)\n",
    "c.set_trans_replicates_hq()\n",
    "c.set_samples_hq(agg='mean')\n",
    "c.set_trans_samples_hq(trans='log2')"
   ]
  },
  {
   "cell_type": "markdown",
   "metadata": {},
   "source": [
    "<hr>\n",
    "\n",
    "There are also some pre-baked analysis functions.\n",
    "\n",
    "For example, manual\\_feature\\_extraction will identify any proteins that are present/absent/mixed in samples of one condition or the other. The output is stored in the _data_ attribute and the attribute is 'mfe'"
   ]
  },
  {
   "cell_type": "code",
   "execution_count": 8,
   "metadata": {},
   "outputs": [
    {
     "name": "stdout",
     "output_type": "stream",
     "text": [
      "ref/cov\n",
      "ref/trt\n",
      "['main', 'helper']\n"
     ]
    },
    {
     "data": {
      "text/html": [
       "<div>\n",
       "<style scoped>\n",
       "    .dataframe tbody tr th:only-of-type {\n",
       "        vertical-align: middle;\n",
       "    }\n",
       "\n",
       "    .dataframe tbody tr th {\n",
       "        vertical-align: top;\n",
       "    }\n",
       "\n",
       "    .dataframe thead th {\n",
       "        text-align: right;\n",
       "    }\n",
       "</style>\n",
       "<table border=\"1\" class=\"dataframe\">\n",
       "  <thead>\n",
       "    <tr style=\"text-align: right;\">\n",
       "      <th></th>\n",
       "      <th>ref/cov</th>\n",
       "      <th>ref/trt</th>\n",
       "    </tr>\n",
       "  </thead>\n",
       "  <tbody>\n",
       "    <tr>\n",
       "      <th>allq_allq</th>\n",
       "      <td>12</td>\n",
       "      <td>12</td>\n",
       "    </tr>\n",
       "    <tr>\n",
       "      <th>allq_allnotq</th>\n",
       "      <td>0</td>\n",
       "      <td>0</td>\n",
       "    </tr>\n",
       "    <tr>\n",
       "      <th>allq_mixed</th>\n",
       "      <td>0</td>\n",
       "      <td>0</td>\n",
       "    </tr>\n",
       "    <tr>\n",
       "      <th>allnotq_allq</th>\n",
       "      <td>0</td>\n",
       "      <td>0</td>\n",
       "    </tr>\n",
       "    <tr>\n",
       "      <th>allnotq_allnotq</th>\n",
       "      <td>0</td>\n",
       "      <td>0</td>\n",
       "    </tr>\n",
       "    <tr>\n",
       "      <th>allnotq_mixed</th>\n",
       "      <td>0</td>\n",
       "      <td>0</td>\n",
       "    </tr>\n",
       "    <tr>\n",
       "      <th>mixed_allq</th>\n",
       "      <td>0</td>\n",
       "      <td>0</td>\n",
       "    </tr>\n",
       "    <tr>\n",
       "      <th>mixed_allnotq</th>\n",
       "      <td>0</td>\n",
       "      <td>0</td>\n",
       "    </tr>\n",
       "    <tr>\n",
       "      <th>mixed_mixed</th>\n",
       "      <td>0</td>\n",
       "      <td>0</td>\n",
       "    </tr>\n",
       "  </tbody>\n",
       "</table>\n",
       "</div>"
      ],
      "text/plain": [
       "                 ref/cov  ref/trt\n",
       "allq_allq             12       12\n",
       "allq_allnotq           0        0\n",
       "allq_mixed             0        0\n",
       "allnotq_allq           0        0\n",
       "allnotq_allnotq        0        0\n",
       "allnotq_mixed          0        0\n",
       "mixed_allq             0        0\n",
       "mixed_allnotq          0        0\n",
       "mixed_mixed            0        0"
      ]
     },
     "metadata": {},
     "output_type": "display_data"
    }
   ],
   "source": [
    "c.set_ref('ref')\n",
    "c.set_treat('trt')\n",
    "c.manual_feature_extraction(c.samples_hq)\n",
    "print([a for a in c.data['mfe'].keys()])\n",
    "display(c.data['mfe']['main']['df_len'])"
   ]
  },
  {
   "cell_type": "markdown",
   "metadata": {},
   "source": [
    "we can view and access sets of proteins exhibiting a certain pattern as below"
   ]
  },
  {
   "cell_type": "code",
   "execution_count": 9,
   "metadata": {
    "scrolled": false
   },
   "outputs": [
    {
     "data": {
      "text/html": [
       "<div>\n",
       "<style scoped>\n",
       "    .dataframe tbody tr th:only-of-type {\n",
       "        vertical-align: middle;\n",
       "    }\n",
       "\n",
       "    .dataframe tbody tr th {\n",
       "        vertical-align: top;\n",
       "    }\n",
       "\n",
       "    .dataframe thead th {\n",
       "        text-align: right;\n",
       "    }\n",
       "</style>\n",
       "<table border=\"1\" class=\"dataframe\">\n",
       "  <thead>\n",
       "    <tr style=\"text-align: right;\">\n",
       "      <th></th>\n",
       "      <th>ref/cov</th>\n",
       "      <th>ref/trt</th>\n",
       "    </tr>\n",
       "  </thead>\n",
       "  <tbody>\n",
       "    <tr>\n",
       "      <th>ref/cov</th>\n",
       "      <td>0</td>\n",
       "      <td>0</td>\n",
       "    </tr>\n",
       "    <tr>\n",
       "      <th>ref/trt</th>\n",
       "      <td>0</td>\n",
       "      <td>0</td>\n",
       "    </tr>\n",
       "  </tbody>\n",
       "</table>\n",
       "</div>"
      ],
      "text/plain": [
       "        ref/cov ref/trt\n",
       "ref/cov       0       0\n",
       "ref/trt       0       0"
      ]
     },
     "metadata": {},
     "output_type": "display_data"
    },
    {
     "data": {
      "text/html": [
       "<div>\n",
       "<style scoped>\n",
       "    .dataframe tbody tr th:only-of-type {\n",
       "        vertical-align: middle;\n",
       "    }\n",
       "\n",
       "    .dataframe tbody tr th {\n",
       "        vertical-align: top;\n",
       "    }\n",
       "\n",
       "    .dataframe thead th {\n",
       "        text-align: right;\n",
       "    }\n",
       "</style>\n",
       "<table border=\"1\" class=\"dataframe\">\n",
       "  <thead>\n",
       "    <tr style=\"text-align: right;\">\n",
       "      <th></th>\n",
       "      <th>ref/cov</th>\n",
       "      <th>ref/trt</th>\n",
       "    </tr>\n",
       "  </thead>\n",
       "  <tbody>\n",
       "    <tr>\n",
       "      <th>ref/cov</th>\n",
       "      <td>0</td>\n",
       "      <td>0</td>\n",
       "    </tr>\n",
       "    <tr>\n",
       "      <th>ref/trt</th>\n",
       "      <td>0</td>\n",
       "      <td>0</td>\n",
       "    </tr>\n",
       "  </tbody>\n",
       "</table>\n",
       "</div>"
      ],
      "text/plain": [
       "        ref/cov ref/trt\n",
       "ref/cov       0       0\n",
       "ref/trt       0       0"
      ]
     },
     "metadata": {},
     "output_type": "display_data"
    },
    {
     "data": {
      "text/html": [
       "<div>\n",
       "<style scoped>\n",
       "    .dataframe tbody tr th:only-of-type {\n",
       "        vertical-align: middle;\n",
       "    }\n",
       "\n",
       "    .dataframe tbody tr th {\n",
       "        vertical-align: top;\n",
       "    }\n",
       "\n",
       "    .dataframe thead th {\n",
       "        text-align: right;\n",
       "    }\n",
       "</style>\n",
       "<table border=\"1\" class=\"dataframe\">\n",
       "  <thead>\n",
       "    <tr style=\"text-align: right;\">\n",
       "      <th></th>\n",
       "      <th>ref/cov</th>\n",
       "      <th>ref/trt</th>\n",
       "    </tr>\n",
       "  </thead>\n",
       "  <tbody>\n",
       "    <tr>\n",
       "      <th>ref/cov</th>\n",
       "      <td>0</td>\n",
       "      <td>0</td>\n",
       "    </tr>\n",
       "    <tr>\n",
       "      <th>ref/trt</th>\n",
       "      <td>0</td>\n",
       "      <td>0</td>\n",
       "    </tr>\n",
       "  </tbody>\n",
       "</table>\n",
       "</div>"
      ],
      "text/plain": [
       "        ref/cov ref/trt\n",
       "ref/cov       0       0\n",
       "ref/trt       0       0"
      ]
     },
     "metadata": {},
     "output_type": "display_data"
    },
    {
     "data": {
      "text/html": [
       "<div>\n",
       "<style scoped>\n",
       "    .dataframe tbody tr th:only-of-type {\n",
       "        vertical-align: middle;\n",
       "    }\n",
       "\n",
       "    .dataframe tbody tr th {\n",
       "        vertical-align: top;\n",
       "    }\n",
       "\n",
       "    .dataframe thead th {\n",
       "        text-align: right;\n",
       "    }\n",
       "</style>\n",
       "<table border=\"1\" class=\"dataframe\">\n",
       "  <thead>\n",
       "    <tr style=\"text-align: right;\">\n",
       "      <th></th>\n",
       "      <th>ref/cov</th>\n",
       "      <th>ref/trt</th>\n",
       "    </tr>\n",
       "  </thead>\n",
       "  <tbody>\n",
       "    <tr>\n",
       "      <th>ref/cov</th>\n",
       "      <td>0</td>\n",
       "      <td>0</td>\n",
       "    </tr>\n",
       "    <tr>\n",
       "      <th>ref/trt</th>\n",
       "      <td>0</td>\n",
       "      <td>0</td>\n",
       "    </tr>\n",
       "  </tbody>\n",
       "</table>\n",
       "</div>"
      ],
      "text/plain": [
       "        ref/cov ref/trt\n",
       "ref/cov       0       0\n",
       "ref/trt       0       0"
      ]
     },
     "metadata": {},
     "output_type": "display_data"
    },
    {
     "name": "stdout",
     "output_type": "stream",
     "text": [
      "set()\n"
     ]
    }
   ],
   "source": [
    "display(c.data['mfe']['helper']['allq_allq']['df_len'])\n",
    "display(c.data['mfe']['helper']['allnotq_allnotq']['df_len'])\n",
    "display(c.data['mfe']['helper']['allq_allnotq']['df_len'])\n",
    "display(c.data['mfe']['helper']['allnotq_allq']['df_len'])\n",
    "print(c.data['mfe']['helper']['allnotq_allq']['df_arr'].iloc[0,0])"
   ]
  },
  {
   "cell_type": "markdown",
   "metadata": {},
   "source": [
    "we can also perform some parametric/nonparametric hypothesis testing"
   ]
  },
  {
   "cell_type": "code",
   "execution_count": 10,
   "metadata": {
    "scrolled": false
   },
   "outputs": [
    {
     "name": "stdout",
     "output_type": "stream",
     "text": [
      "[('t-test', <function ttest_ind at 0x1103f8620>), ('Wilcoxon_RankSum_test', <function ranksums at 0x110423c80>)]\n",
      "[('t-test', <function ttest_ind at 0x1103f8620>), ('Wilcoxon_RankSum_test', <function ranksums at 0x110423c80>), ('ks_2samp', <function kruskal at 0x1104150d0>)]\n",
      "A list of statistical tests are required. For example: [( \"t-test\",scipy.stats.ttest_ind )]. More than one can be given.\n"
     ]
    },
    {
     "data": {
      "text/html": [
       "<div>\n",
       "<style scoped>\n",
       "    .dataframe tbody tr th:only-of-type {\n",
       "        vertical-align: middle;\n",
       "    }\n",
       "\n",
       "    .dataframe tbody tr th {\n",
       "        vertical-align: top;\n",
       "    }\n",
       "\n",
       "    .dataframe thead th {\n",
       "        text-align: right;\n",
       "    }\n",
       "</style>\n",
       "<table border=\"1\" class=\"dataframe\">\n",
       "  <thead>\n",
       "    <tr style=\"text-align: right;\">\n",
       "      <th></th>\n",
       "      <th>protein</th>\n",
       "      <th>test</th>\n",
       "      <th>pvalue</th>\n",
       "      <th>statistic</th>\n",
       "    </tr>\n",
       "  </thead>\n",
       "  <tbody>\n",
       "    <tr>\n",
       "      <th>0</th>\n",
       "      <td>protein</td>\n",
       "      <td>t-test</td>\n",
       "      <td>0.406322</td>\n",
       "      <td>-0.876472</td>\n",
       "    </tr>\n",
       "    <tr>\n",
       "      <th>1</th>\n",
       "      <td>protein</td>\n",
       "      <td>t-test</td>\n",
       "      <td>0.391908</td>\n",
       "      <td>-0.904993</td>\n",
       "    </tr>\n",
       "    <tr>\n",
       "      <th>2</th>\n",
       "      <td>protein</td>\n",
       "      <td>t-test</td>\n",
       "      <td>0.428421</td>\n",
       "      <td>-0.834108</td>\n",
       "    </tr>\n",
       "    <tr>\n",
       "      <th>3</th>\n",
       "      <td>protein</td>\n",
       "      <td>t-test</td>\n",
       "      <td>0.016564</td>\n",
       "      <td>-3.019809</td>\n",
       "    </tr>\n",
       "    <tr>\n",
       "      <th>4</th>\n",
       "      <td>protein</td>\n",
       "      <td>t-test</td>\n",
       "      <td>0.959334</td>\n",
       "      <td>0.052608</td>\n",
       "    </tr>\n",
       "    <tr>\n",
       "      <th>5</th>\n",
       "      <td>protein</td>\n",
       "      <td>t-test</td>\n",
       "      <td>0.246241</td>\n",
       "      <td>-1.251110</td>\n",
       "    </tr>\n",
       "    <tr>\n",
       "      <th>6</th>\n",
       "      <td>protein</td>\n",
       "      <td>t-test</td>\n",
       "      <td>0.980672</td>\n",
       "      <td>0.024995</td>\n",
       "    </tr>\n",
       "    <tr>\n",
       "      <th>7</th>\n",
       "      <td>protein</td>\n",
       "      <td>t-test</td>\n",
       "      <td>0.743279</td>\n",
       "      <td>-0.339079</td>\n",
       "    </tr>\n",
       "    <tr>\n",
       "      <th>8</th>\n",
       "      <td>protein</td>\n",
       "      <td>t-test</td>\n",
       "      <td>0.050397</td>\n",
       "      <td>-2.300934</td>\n",
       "    </tr>\n",
       "    <tr>\n",
       "      <th>9</th>\n",
       "      <td>protein</td>\n",
       "      <td>t-test</td>\n",
       "      <td>0.395613</td>\n",
       "      <td>-0.897590</td>\n",
       "    </tr>\n",
       "    <tr>\n",
       "      <th>10</th>\n",
       "      <td>protein</td>\n",
       "      <td>t-test</td>\n",
       "      <td>0.393714</td>\n",
       "      <td>0.901379</td>\n",
       "    </tr>\n",
       "    <tr>\n",
       "      <th>11</th>\n",
       "      <td>protein</td>\n",
       "      <td>t-test</td>\n",
       "      <td>0.712360</td>\n",
       "      <td>-0.382068</td>\n",
       "    </tr>\n",
       "    <tr>\n",
       "      <th>12</th>\n",
       "      <td>protein</td>\n",
       "      <td>Wilcoxon_RankSum_test</td>\n",
       "      <td>0.464702</td>\n",
       "      <td>-0.731126</td>\n",
       "    </tr>\n",
       "    <tr>\n",
       "      <th>13</th>\n",
       "      <td>protein</td>\n",
       "      <td>Wilcoxon_RankSum_test</td>\n",
       "      <td>0.754023</td>\n",
       "      <td>-0.313340</td>\n",
       "    </tr>\n",
       "    <tr>\n",
       "      <th>14</th>\n",
       "      <td>protein</td>\n",
       "      <td>Wilcoxon_RankSum_test</td>\n",
       "      <td>0.754023</td>\n",
       "      <td>-0.313340</td>\n",
       "    </tr>\n",
       "    <tr>\n",
       "      <th>15</th>\n",
       "      <td>protein</td>\n",
       "      <td>Wilcoxon_RankSum_test</td>\n",
       "      <td>0.047202</td>\n",
       "      <td>-1.984485</td>\n",
       "    </tr>\n",
       "    <tr>\n",
       "      <th>16</th>\n",
       "      <td>protein</td>\n",
       "      <td>Wilcoxon_RankSum_test</td>\n",
       "      <td>0.916815</td>\n",
       "      <td>0.104447</td>\n",
       "    </tr>\n",
       "    <tr>\n",
       "      <th>17</th>\n",
       "      <td>protein</td>\n",
       "      <td>Wilcoxon_RankSum_test</td>\n",
       "      <td>0.464702</td>\n",
       "      <td>-0.731126</td>\n",
       "    </tr>\n",
       "    <tr>\n",
       "      <th>18</th>\n",
       "      <td>protein</td>\n",
       "      <td>Wilcoxon_RankSum_test</td>\n",
       "      <td>0.916815</td>\n",
       "      <td>-0.104447</td>\n",
       "    </tr>\n",
       "    <tr>\n",
       "      <th>19</th>\n",
       "      <td>protein</td>\n",
       "      <td>Wilcoxon_RankSum_test</td>\n",
       "      <td>0.916815</td>\n",
       "      <td>0.104447</td>\n",
       "    </tr>\n",
       "    <tr>\n",
       "      <th>20</th>\n",
       "      <td>protein</td>\n",
       "      <td>Wilcoxon_RankSum_test</td>\n",
       "      <td>0.075800</td>\n",
       "      <td>-1.775592</td>\n",
       "    </tr>\n",
       "    <tr>\n",
       "      <th>21</th>\n",
       "      <td>protein</td>\n",
       "      <td>Wilcoxon_RankSum_test</td>\n",
       "      <td>0.754023</td>\n",
       "      <td>-0.313340</td>\n",
       "    </tr>\n",
       "    <tr>\n",
       "      <th>22</th>\n",
       "      <td>protein</td>\n",
       "      <td>Wilcoxon_RankSum_test</td>\n",
       "      <td>0.250592</td>\n",
       "      <td>1.148913</td>\n",
       "    </tr>\n",
       "    <tr>\n",
       "      <th>23</th>\n",
       "      <td>protein</td>\n",
       "      <td>Wilcoxon_RankSum_test</td>\n",
       "      <td>0.464702</td>\n",
       "      <td>-0.731126</td>\n",
       "    </tr>\n",
       "    <tr>\n",
       "      <th>24</th>\n",
       "      <td>protein</td>\n",
       "      <td>ks_2samp</td>\n",
       "      <td>0.464702</td>\n",
       "      <td>0.534545</td>\n",
       "    </tr>\n",
       "    <tr>\n",
       "      <th>25</th>\n",
       "      <td>protein</td>\n",
       "      <td>ks_2samp</td>\n",
       "      <td>0.754023</td>\n",
       "      <td>0.098182</td>\n",
       "    </tr>\n",
       "    <tr>\n",
       "      <th>26</th>\n",
       "      <td>protein</td>\n",
       "      <td>ks_2samp</td>\n",
       "      <td>0.754023</td>\n",
       "      <td>0.098182</td>\n",
       "    </tr>\n",
       "    <tr>\n",
       "      <th>27</th>\n",
       "      <td>protein</td>\n",
       "      <td>ks_2samp</td>\n",
       "      <td>0.047202</td>\n",
       "      <td>3.938182</td>\n",
       "    </tr>\n",
       "    <tr>\n",
       "      <th>28</th>\n",
       "      <td>protein</td>\n",
       "      <td>ks_2samp</td>\n",
       "      <td>0.916815</td>\n",
       "      <td>0.010909</td>\n",
       "    </tr>\n",
       "    <tr>\n",
       "      <th>29</th>\n",
       "      <td>protein</td>\n",
       "      <td>ks_2samp</td>\n",
       "      <td>0.464702</td>\n",
       "      <td>0.534545</td>\n",
       "    </tr>\n",
       "    <tr>\n",
       "      <th>30</th>\n",
       "      <td>protein</td>\n",
       "      <td>ks_2samp</td>\n",
       "      <td>0.916815</td>\n",
       "      <td>0.010909</td>\n",
       "    </tr>\n",
       "    <tr>\n",
       "      <th>31</th>\n",
       "      <td>protein</td>\n",
       "      <td>ks_2samp</td>\n",
       "      <td>0.916815</td>\n",
       "      <td>0.010909</td>\n",
       "    </tr>\n",
       "    <tr>\n",
       "      <th>32</th>\n",
       "      <td>protein</td>\n",
       "      <td>ks_2samp</td>\n",
       "      <td>0.075800</td>\n",
       "      <td>3.152727</td>\n",
       "    </tr>\n",
       "    <tr>\n",
       "      <th>33</th>\n",
       "      <td>protein</td>\n",
       "      <td>ks_2samp</td>\n",
       "      <td>0.754023</td>\n",
       "      <td>0.098182</td>\n",
       "    </tr>\n",
       "    <tr>\n",
       "      <th>34</th>\n",
       "      <td>protein</td>\n",
       "      <td>ks_2samp</td>\n",
       "      <td>0.250592</td>\n",
       "      <td>1.320000</td>\n",
       "    </tr>\n",
       "    <tr>\n",
       "      <th>35</th>\n",
       "      <td>protein</td>\n",
       "      <td>ks_2samp</td>\n",
       "      <td>0.464702</td>\n",
       "      <td>0.534545</td>\n",
       "    </tr>\n",
       "  </tbody>\n",
       "</table>\n",
       "</div>"
      ],
      "text/plain": [
       "    protein                   test    pvalue  statistic\n",
       "0   protein                 t-test  0.406322  -0.876472\n",
       "1   protein                 t-test  0.391908  -0.904993\n",
       "2   protein                 t-test  0.428421  -0.834108\n",
       "3   protein                 t-test  0.016564  -3.019809\n",
       "4   protein                 t-test  0.959334   0.052608\n",
       "5   protein                 t-test  0.246241  -1.251110\n",
       "6   protein                 t-test  0.980672   0.024995\n",
       "7   protein                 t-test  0.743279  -0.339079\n",
       "8   protein                 t-test  0.050397  -2.300934\n",
       "9   protein                 t-test  0.395613  -0.897590\n",
       "10  protein                 t-test  0.393714   0.901379\n",
       "11  protein                 t-test  0.712360  -0.382068\n",
       "12  protein  Wilcoxon_RankSum_test  0.464702  -0.731126\n",
       "13  protein  Wilcoxon_RankSum_test  0.754023  -0.313340\n",
       "14  protein  Wilcoxon_RankSum_test  0.754023  -0.313340\n",
       "15  protein  Wilcoxon_RankSum_test  0.047202  -1.984485\n",
       "16  protein  Wilcoxon_RankSum_test  0.916815   0.104447\n",
       "17  protein  Wilcoxon_RankSum_test  0.464702  -0.731126\n",
       "18  protein  Wilcoxon_RankSum_test  0.916815  -0.104447\n",
       "19  protein  Wilcoxon_RankSum_test  0.916815   0.104447\n",
       "20  protein  Wilcoxon_RankSum_test  0.075800  -1.775592\n",
       "21  protein  Wilcoxon_RankSum_test  0.754023  -0.313340\n",
       "22  protein  Wilcoxon_RankSum_test  0.250592   1.148913\n",
       "23  protein  Wilcoxon_RankSum_test  0.464702  -0.731126\n",
       "24  protein               ks_2samp  0.464702   0.534545\n",
       "25  protein               ks_2samp  0.754023   0.098182\n",
       "26  protein               ks_2samp  0.754023   0.098182\n",
       "27  protein               ks_2samp  0.047202   3.938182\n",
       "28  protein               ks_2samp  0.916815   0.010909\n",
       "29  protein               ks_2samp  0.464702   0.534545\n",
       "30  protein               ks_2samp  0.916815   0.010909\n",
       "31  protein               ks_2samp  0.916815   0.010909\n",
       "32  protein               ks_2samp  0.075800   3.152727\n",
       "33  protein               ks_2samp  0.754023   0.098182\n",
       "34  protein               ks_2samp  0.250592   1.320000\n",
       "35  protein               ks_2samp  0.464702   0.534545"
      ]
     },
     "execution_count": 10,
     "metadata": {},
     "output_type": "execute_result"
    }
   ],
   "source": [
    "import scipy\n",
    "\n",
    "#two tests, the t-test and wilcoxon rank sum test, is used within each object (try c.tests) if none are given explicitly\n",
    "print(c.tests)\n",
    "\n",
    "#add another test to a new test list\n",
    "tests = c.tests.copy()\n",
    "tests.append(('ks_2samp',scipy.stats.kruskal))\n",
    "print(tests)\n",
    "#two tests, the t-test and wilcoxon rank sum test, is used within each object (try c.tests) if none are given explicitly\n",
    "\n",
    "\n",
    "ht = c.hypothesis_testing(df=c.samples_hq,df_groups=c.sample_groups,tests=tests)\n",
    "ht"
   ]
  },
  {
   "cell_type": "markdown",
   "metadata": {},
   "source": [
    "Here's some examples extracting data using cohort object attributes and plotting with object data"
   ]
  },
  {
   "cell_type": "code",
   "execution_count": 11,
   "metadata": {},
   "outputs": [
    {
     "data": {
      "image/png": "[encoded data removed]",
      "text/plain": [
       "<matplotlib.figure.Figure at 0x11104fc88>"
      ]
     },
     "metadata": {},
     "output_type": "display_data"
    }
   ],
   "source": [
    "%matplotlib inline\n",
    "import matplotlib.pylab as plt\n",
    "import seaborn as sns\n",
    "df_samples = c.raw_samples.apply(lambda x: np.log2(x))\n",
    "for n in range(0,df_samples.shape[1],1):\n",
    "    sns.distplot(df_samples.iloc[:,n])\n",
    "plt.xlabel('log2 of protein values')\n",
    "plt.title('Sample distributions')\n",
    "sns.despine()"
   ]
  },
  {
   "cell_type": "code",
   "execution_count": 12,
   "metadata": {},
   "outputs": [
    {
     "data": {
      "image/png": "[encoded data removed]",
      "text/plain": [
       "<matplotlib.figure.Figure at 0x1106e7e10>"
      ]
     },
     "metadata": {},
     "output_type": "display_data"
    }
   ],
   "source": [
    "df_replicates = c.raw_replicates.fillna(0).apply(np.log2)\n",
    "for n in range(0,df_replicates.shape[0],1):\n",
    "    sns.distplot(df_replicates.iloc[:,n])\n",
    "plt.xlabel('log2 of protein values')\n",
    "plt.title('Replicate distributions')\n",
    "sns.despine()"
   ]
  },
  {
   "cell_type": "markdown",
   "metadata": {},
   "source": [
    "These are just a few examples of what could be done with the package. For further information please view the source code. If you have any questions or code modifications, submit an issue or even a pull request!"
   ]
  }
 ],
 "metadata": {
  "kernelspec": {
   "display_name": "Python [conda env:cohorts_test]",
   "language": "python",
   "name": "conda-env-cohorts_test-py"
  },
  "language_info": {
   "codemirror_mode": {
    "name": "ipython",
    "version": 3
   },
   "file_extension": ".py",
   "mimetype": "text/x-python",
   "name": "python",
   "nbconvert_exporter": "python",
   "pygments_lexer": "ipython3",
   "version": "3.6.4"
  }
 },
 "nbformat": 4,
 "nbformat_minor": 2
}

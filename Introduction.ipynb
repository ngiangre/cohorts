{
 "cells": [
  {
   "cell_type": "markdown",
   "metadata": {},
   "source": [
    "# Introduction to _cohorts_"
   ]
  },
  {
   "cell_type": "markdown",
   "metadata": {},
   "source": [
    "By Nick Giangreco,\n",
    "\n",
    "Tatonetti Lab, \n",
    "\n",
    "Columbia University,\n",
    "\n",
    "Created on:"
   ]
  },
  {
   "cell_type": "code",
   "execution_count": 1,
   "metadata": {},
   "outputs": [
    {
     "name": "stdout",
     "output_type": "stream",
     "text": [
      "Wed Jan  9 14:34:18 EST 2019\r\n"
     ]
    }
   ],
   "source": [
    "!date"
   ]
  },
  {
   "cell_type": "markdown",
   "metadata": {},
   "source": [
    "_cohorts_ provides feasible data management for clinical proteomic experiments. Below we go over examples of loading and retrieving sample data. "
   ]
  },
  {
   "cell_type": "markdown",
   "metadata": {},
   "source": [
    "<hr>\n",
    "\n",
    "load libraries"
   ]
  },
  {
   "cell_type": "code",
   "execution_count": 2,
   "metadata": {
    "nbpresent": {
     "id": "24799cf3-8a2c-41b4-98c0-2861feeaa846"
    }
   },
   "outputs": [],
   "source": [
    "import cohorts\n",
    "import pandas as pd\n",
    "import numpy as np"
   ]
  },
  {
   "cell_type": "markdown",
   "metadata": {},
   "source": [
    "package doctstring"
   ]
  },
  {
   "cell_type": "code",
   "execution_count": 3,
   "metadata": {},
   "outputs": [
    {
     "name": "stdout",
     "output_type": "stream",
     "text": [
      "\n",
      "\tPatient cohort object for patient proteomics data.\n",
      "\n",
      "\tDataframes, variables, and functions facilitating the processing, analysis, and integration of the cohort data.\n",
      "\n",
      "\tParameters\n",
      "\t----------\n",
      "\tcohort: str\n",
      "\t\tname of the patient cohort\n",
      "\n",
      "\tfile_dir: str\n",
      "\t\tdirectory where replicate dataframe and \n",
      "\t\tsample group membership dataframe file names are located\n",
      "\n",
      "\treplicates_file: str\n",
      "\t\tname of the replicates dataframe file\n",
      "\n",
      "\t\tA markers x B replicates\n",
      "\t\tcomma (*.csv) or tab (*.tsv) delimited\n",
      "\n",
      "\t\treplicate = \"SampleName\" + \"_Rep[0-9]\"\n",
      "\n",
      "\tsample_groups_file: str\n",
      "\t\tname of the sample group file\n",
      "\t\tcomma (*.csv) or tab (*.tsv) delimited\n",
      "\n",
      "\t\tN groups x M samples\n",
      "\n",
      "\t\tsample = \"SampleName\"\n",
      "\n",
      "\tdata_dir: str\n",
      "\t\tdirectory where extra data files are located\n",
      "\t\t\n",
      "\tuniprot_file: str\n",
      "\t\tname of the uniprot database flat file located in data_dir\n",
      "\n",
      "\tExamples\n",
      "\t--------\n",
      "\t>>>c = cohorts.Cohort(cohort='cohort_name',\n",
      "\t\tfile_dir=\"path/to/files/\",\n",
      "\t\treplicates_file=\"file_name\",\n",
      "\t\tsamples_file=\"file_name\",\n",
      "\t\tsample_groups_file=\"sample_groups_file_name\",\n",
      "\t\tdata_dir=\"path/to/data/dir/\",\n",
      "\t\tmarker_type=\"protein\",\n",
      "\t\treference=\"ref\",treatment=\"trt\"\n",
      "\t\t)\n",
      "\t>>>c.set_replicates_hq()\n",
      "\t>>>c.set_trans_replicates_hq()\n",
      "\t>>>c.set_samples_hq()\n",
      "\t>>>c.set_trans_samples_hq()\n",
      "\n",
      "\t\n"
     ]
    }
   ],
   "source": [
    "print(cohorts.Cohort.__doc__)"
   ]
  },
  {
   "cell_type": "markdown",
   "metadata": {},
   "source": [
    "reference location of replicate/sample data files and create cohort object. Referencing values in dictionaries is a way to upload many cohort data instead of just one."
   ]
  },
  {
   "cell_type": "code",
   "execution_count": 4,
   "metadata": {
    "nbpresent": {
     "id": "7f9017a5-6455-4867-a8a2-c3842b3f9d9c"
    },
    "scrolled": false
   },
   "outputs": [],
   "source": [
    "top = \"./\"\n",
    "data_dirs = { 'my_cohort' : \"../data/\" }\n",
    "file_dirs = { 'my_cohort' : top+\"sample_data/\" }\n",
    "replicates_files = { 'my_cohort' : \"df_replicates.tsv\" }\n",
    "sample_groups_files = { 'my_cohort' : \"df_sample_groups.tsv\" }\n",
    "cohort = { 'my_cohort' : 'my_cohort' }\n",
    "references = { 'my_cohort' : 'ref' }\n",
    "treatments = { 'my_cohort' : 'trt' }\n",
    "for cohort_name in file_dirs.keys():\n",
    "    c = cohorts.Cohort(cohort=cohort[cohort_name],marker_type=\"protein\",\n",
    "                       data_dir=data_dirs[cohort_name],file_dir=file_dirs[cohort_name],\n",
    "                       replicates_file=replicates_files[cohort_name],\n",
    "                       sample_groups_file=sample_groups_files[cohort_name],\n",
    "                       reference=references[cohort_name],\n",
    "                       treatment=treatments[cohort_name])"
   ]
  },
  {
   "cell_type": "markdown",
   "metadata": {},
   "source": [
    "list and display all object attributes"
   ]
  },
  {
   "cell_type": "code",
   "execution_count": 5,
   "metadata": {
    "scrolled": false
   },
   "outputs": [
    {
     "name": "stdout",
     "output_type": "stream",
     "text": [
      "======\n",
      "Attribute: cwd\n"
     ]
    },
    {
     "data": {
      "text/plain": [
       "'/Users/npg2108/GitHub/cohorts'"
      ]
     },
     "metadata": {},
     "output_type": "display_data"
    },
    {
     "name": "stdout",
     "output_type": "stream",
     "text": [
      "======\n",
      "Attribute: data_dir\n"
     ]
    },
    {
     "data": {
      "text/plain": [
       "'../data/'"
      ]
     },
     "metadata": {},
     "output_type": "display_data"
    },
    {
     "name": "stdout",
     "output_type": "stream",
     "text": [
      "======\n",
      "Attribute: file_dir\n"
     ]
    },
    {
     "data": {
      "text/plain": [
       "'./sample_data/'"
      ]
     },
     "metadata": {},
     "output_type": "display_data"
    },
    {
     "name": "stdout",
     "output_type": "stream",
     "text": [
      "======\n",
      "Attribute: cohort\n"
     ]
    },
    {
     "data": {
      "text/plain": [
       "'my_cohort'"
      ]
     },
     "metadata": {},
     "output_type": "display_data"
    },
    {
     "name": "stdout",
     "output_type": "stream",
     "text": [
      "======\n",
      "Attribute: marker_type\n"
     ]
    },
    {
     "data": {
      "text/plain": [
       "'protein'"
      ]
     },
     "metadata": {},
     "output_type": "display_data"
    },
    {
     "name": "stdout",
     "output_type": "stream",
     "text": [
      "======\n",
      "Attribute: reference\n"
     ]
    },
    {
     "data": {
      "text/plain": [
       "'ref'"
      ]
     },
     "metadata": {},
     "output_type": "display_data"
    },
    {
     "name": "stdout",
     "output_type": "stream",
     "text": [
      "======\n",
      "Attribute: treat\n"
     ]
    },
    {
     "data": {
      "text/plain": [
       "'trt'"
      ]
     },
     "metadata": {},
     "output_type": "display_data"
    },
    {
     "name": "stdout",
     "output_type": "stream",
     "text": [
      "======\n",
      "Attribute: data\n"
     ]
    },
    {
     "data": {
      "text/plain": [
       "{}"
      ]
     },
     "metadata": {},
     "output_type": "display_data"
    },
    {
     "name": "stdout",
     "output_type": "stream",
     "text": [
      "======\n",
      "Attribute: params\n"
     ]
    },
    {
     "data": {
      "text/plain": [
       "{}"
      ]
     },
     "metadata": {},
     "output_type": "display_data"
    },
    {
     "name": "stdout",
     "output_type": "stream",
     "text": [
      "======\n",
      "Attribute: replicates_file\n"
     ]
    },
    {
     "data": {
      "text/plain": [
       "'./sample_data/df_replicates.tsv'"
      ]
     },
     "metadata": {},
     "output_type": "display_data"
    },
    {
     "name": "stdout",
     "output_type": "stream",
     "text": [
      "======\n",
      "Attribute: raw_replicates\n"
     ]
    },
    {
     "data": {
      "text/html": [
       "<div>\n",
       "<style scoped>\n",
       "    .dataframe tbody tr th:only-of-type {\n",
       "        vertical-align: middle;\n",
       "    }\n",
       "\n",
       "    .dataframe tbody tr th {\n",
       "        vertical-align: top;\n",
       "    }\n",
       "\n",
       "    .dataframe thead th {\n",
       "        text-align: right;\n",
       "    }\n",
       "</style>\n",
       "<table border=\"1\" class=\"dataframe\">\n",
       "  <thead>\n",
       "    <tr style=\"text-align: right;\">\n",
       "      <th>replicate</th>\n",
       "      <th>S10_Rep1</th>\n",
       "      <th>S10_Rep2</th>\n",
       "      <th>S1_Rep1</th>\n",
       "      <th>S1_Rep2</th>\n",
       "      <th>S2_Rep1</th>\n",
       "      <th>S2_Rep2</th>\n",
       "      <th>S3_Rep1</th>\n",
       "      <th>S3_Rep2</th>\n",
       "      <th>S4_Rep1</th>\n",
       "      <th>S4_Rep2</th>\n",
       "      <th>S5_Rep1</th>\n",
       "      <th>S5_Rep2</th>\n",
       "      <th>S6_Rep1</th>\n",
       "      <th>S6_Rep2</th>\n",
       "      <th>S7_Rep1</th>\n",
       "      <th>S7_Rep2</th>\n",
       "      <th>S8_Rep1</th>\n",
       "      <th>S8_Rep2</th>\n",
       "      <th>S9_Rep1</th>\n",
       "      <th>S9_Rep2</th>\n",
       "    </tr>\n",
       "    <tr>\n",
       "      <th>protein</th>\n",
       "      <th></th>\n",
       "      <th></th>\n",
       "      <th></th>\n",
       "      <th></th>\n",
       "      <th></th>\n",
       "      <th></th>\n",
       "      <th></th>\n",
       "      <th></th>\n",
       "      <th></th>\n",
       "      <th></th>\n",
       "      <th></th>\n",
       "      <th></th>\n",
       "      <th></th>\n",
       "      <th></th>\n",
       "      <th></th>\n",
       "      <th></th>\n",
       "      <th></th>\n",
       "      <th></th>\n",
       "      <th></th>\n",
       "      <th></th>\n",
       "    </tr>\n",
       "  </thead>\n",
       "  <tbody>\n",
       "    <tr>\n",
       "      <th>E7EX29</th>\n",
       "      <td>0.977477</td>\n",
       "      <td>0.304410</td>\n",
       "      <td>0.526654</td>\n",
       "      <td>0.127130</td>\n",
       "      <td>5.199028</td>\n",
       "      <td>2.109347</td>\n",
       "      <td>2.249255</td>\n",
       "      <td>0.108401</td>\n",
       "      <td>0.875591</td>\n",
       "      <td>1.028805</td>\n",
       "      <td>0.920000</td>\n",
       "      <td>0.042764</td>\n",
       "      <td>4.221320</td>\n",
       "      <td>4.993079</td>\n",
       "      <td>0.691645</td>\n",
       "      <td>2.843608</td>\n",
       "      <td>2.702805</td>\n",
       "      <td>11.054266</td>\n",
       "      <td>0.056939</td>\n",
       "      <td>5.041705</td>\n",
       "    </tr>\n",
       "    <tr>\n",
       "      <th>P03950</th>\n",
       "      <td>0.075187</td>\n",
       "      <td>0.907472</td>\n",
       "      <td>2.641508</td>\n",
       "      <td>2.071905</td>\n",
       "      <td>5.416919</td>\n",
       "      <td>2.144553</td>\n",
       "      <td>0.901242</td>\n",
       "      <td>1.282467</td>\n",
       "      <td>2.578389</td>\n",
       "      <td>0.182659</td>\n",
       "      <td>0.157544</td>\n",
       "      <td>0.658971</td>\n",
       "      <td>0.752813</td>\n",
       "      <td>6.571444</td>\n",
       "      <td>2.805870</td>\n",
       "      <td>6.532070</td>\n",
       "      <td>7.965716</td>\n",
       "      <td>0.246137</td>\n",
       "      <td>5.003671</td>\n",
       "      <td>0.373763</td>\n",
       "    </tr>\n",
       "    <tr>\n",
       "      <th>P05067</th>\n",
       "      <td>0.214809</td>\n",
       "      <td>5.155476</td>\n",
       "      <td>0.760780</td>\n",
       "      <td>1.976759</td>\n",
       "      <td>1.736841</td>\n",
       "      <td>2.491382</td>\n",
       "      <td>0.790444</td>\n",
       "      <td>0.544351</td>\n",
       "      <td>6.843504</td>\n",
       "      <td>1.913787</td>\n",
       "      <td>7.910964</td>\n",
       "      <td>3.857954</td>\n",
       "      <td>1.874413</td>\n",
       "      <td>0.348689</td>\n",
       "      <td>2.120594</td>\n",
       "      <td>6.399730</td>\n",
       "      <td>0.904973</td>\n",
       "      <td>1.631184</td>\n",
       "      <td>0.301007</td>\n",
       "      <td>1.817747</td>\n",
       "    </tr>\n",
       "    <tr>\n",
       "      <th>P08253</th>\n",
       "      <td>0.154020</td>\n",
       "      <td>0.447184</td>\n",
       "      <td>0.850043</td>\n",
       "      <td>0.641323</td>\n",
       "      <td>3.698615</td>\n",
       "      <td>1.103303</td>\n",
       "      <td>0.076704</td>\n",
       "      <td>1.398809</td>\n",
       "      <td>2.013129</td>\n",
       "      <td>5.660915</td>\n",
       "      <td>4.112593</td>\n",
       "      <td>2.451870</td>\n",
       "      <td>0.587017</td>\n",
       "      <td>0.981799</td>\n",
       "      <td>0.649270</td>\n",
       "      <td>0.864091</td>\n",
       "      <td>1.813152</td>\n",
       "      <td>1.469418</td>\n",
       "      <td>0.608286</td>\n",
       "      <td>0.498515</td>\n",
       "    </tr>\n",
       "    <tr>\n",
       "      <th>P15144</th>\n",
       "      <td>2.589447</td>\n",
       "      <td>4.405096</td>\n",
       "      <td>0.907281</td>\n",
       "      <td>1.863856</td>\n",
       "      <td>6.259852</td>\n",
       "      <td>3.825411</td>\n",
       "      <td>5.288734</td>\n",
       "      <td>1.098613</td>\n",
       "      <td>0.540793</td>\n",
       "      <td>2.428891</td>\n",
       "      <td>0.195651</td>\n",
       "      <td>1.039652</td>\n",
       "      <td>3.192662</td>\n",
       "      <td>0.451817</td>\n",
       "      <td>0.316526</td>\n",
       "      <td>4.921793</td>\n",
       "      <td>0.587720</td>\n",
       "      <td>2.058128</td>\n",
       "      <td>3.562867</td>\n",
       "      <td>1.577427</td>\n",
       "    </tr>\n",
       "    <tr>\n",
       "      <th>P27338</th>\n",
       "      <td>0.396244</td>\n",
       "      <td>6.107705</td>\n",
       "      <td>2.504065</td>\n",
       "      <td>0.397693</td>\n",
       "      <td>4.305065</td>\n",
       "      <td>0.094969</td>\n",
       "      <td>0.788371</td>\n",
       "      <td>2.723448</td>\n",
       "      <td>0.396713</td>\n",
       "      <td>0.302483</td>\n",
       "      <td>3.477549</td>\n",
       "      <td>1.194654</td>\n",
       "      <td>0.836833</td>\n",
       "      <td>5.695107</td>\n",
       "      <td>7.138837</td>\n",
       "      <td>2.208008</td>\n",
       "      <td>0.561346</td>\n",
       "      <td>2.481271</td>\n",
       "      <td>3.406206</td>\n",
       "      <td>1.721506</td>\n",
       "    </tr>\n",
       "    <tr>\n",
       "      <th>P52209</th>\n",
       "      <td>2.787344</td>\n",
       "      <td>0.758593</td>\n",
       "      <td>1.928400</td>\n",
       "      <td>0.132313</td>\n",
       "      <td>0.923237</td>\n",
       "      <td>3.015603</td>\n",
       "      <td>1.805835</td>\n",
       "      <td>2.898382</td>\n",
       "      <td>0.208677</td>\n",
       "      <td>1.478625</td>\n",
       "      <td>1.456573</td>\n",
       "      <td>0.180620</td>\n",
       "      <td>1.046998</td>\n",
       "      <td>0.686258</td>\n",
       "      <td>2.455698</td>\n",
       "      <td>6.181536</td>\n",
       "      <td>9.570667</td>\n",
       "      <td>0.878119</td>\n",
       "      <td>0.005764</td>\n",
       "      <td>0.876215</td>\n",
       "    </tr>\n",
       "    <tr>\n",
       "      <th>P62191</th>\n",
       "      <td>1.151451</td>\n",
       "      <td>0.770435</td>\n",
       "      <td>0.791281</td>\n",
       "      <td>1.820099</td>\n",
       "      <td>0.758876</td>\n",
       "      <td>2.282401</td>\n",
       "      <td>0.675158</td>\n",
       "      <td>1.502792</td>\n",
       "      <td>0.352030</td>\n",
       "      <td>3.477358</td>\n",
       "      <td>3.310814</td>\n",
       "      <td>2.273665</td>\n",
       "      <td>0.658391</td>\n",
       "      <td>2.691015</td>\n",
       "      <td>0.432696</td>\n",
       "      <td>1.089667</td>\n",
       "      <td>0.147597</td>\n",
       "      <td>0.467557</td>\n",
       "      <td>0.604896</td>\n",
       "      <td>2.467717</td>\n",
       "    </tr>\n",
       "    <tr>\n",
       "      <th>Q8N302</th>\n",
       "      <td>0.045530</td>\n",
       "      <td>2.592093</td>\n",
       "      <td>4.864815</td>\n",
       "      <td>0.542662</td>\n",
       "      <td>0.481945</td>\n",
       "      <td>2.445767</td>\n",
       "      <td>4.673145</td>\n",
       "      <td>0.262777</td>\n",
       "      <td>5.679859</td>\n",
       "      <td>1.359762</td>\n",
       "      <td>0.520990</td>\n",
       "      <td>1.011805</td>\n",
       "      <td>2.345876</td>\n",
       "      <td>0.826695</td>\n",
       "      <td>0.725987</td>\n",
       "      <td>1.183249</td>\n",
       "      <td>0.033972</td>\n",
       "      <td>3.383350</td>\n",
       "      <td>0.567743</td>\n",
       "      <td>0.879773</td>\n",
       "    </tr>\n",
       "    <tr>\n",
       "      <th>Q99460</th>\n",
       "      <td>8.307991</td>\n",
       "      <td>2.722858</td>\n",
       "      <td>0.035922</td>\n",
       "      <td>0.501800</td>\n",
       "      <td>0.195793</td>\n",
       "      <td>4.029438</td>\n",
       "      <td>4.635607</td>\n",
       "      <td>0.525992</td>\n",
       "      <td>7.392602</td>\n",
       "      <td>0.229223</td>\n",
       "      <td>1.037541</td>\n",
       "      <td>0.122106</td>\n",
       "      <td>4.192949</td>\n",
       "      <td>0.951078</td>\n",
       "      <td>5.367599</td>\n",
       "      <td>2.079834</td>\n",
       "      <td>5.159862</td>\n",
       "      <td>1.068000</td>\n",
       "      <td>1.338310</td>\n",
       "      <td>0.235605</td>\n",
       "    </tr>\n",
       "    <tr>\n",
       "      <th>Q9UJX5</th>\n",
       "      <td>3.204500</td>\n",
       "      <td>1.053998</td>\n",
       "      <td>7.875030</td>\n",
       "      <td>0.534928</td>\n",
       "      <td>0.876710</td>\n",
       "      <td>2.003304</td>\n",
       "      <td>1.054773</td>\n",
       "      <td>1.268148</td>\n",
       "      <td>0.455250</td>\n",
       "      <td>1.269770</td>\n",
       "      <td>0.749670</td>\n",
       "      <td>0.163776</td>\n",
       "      <td>1.548252</td>\n",
       "      <td>1.626310</td>\n",
       "      <td>1.237483</td>\n",
       "      <td>0.256983</td>\n",
       "      <td>2.857613</td>\n",
       "      <td>1.433344</td>\n",
       "      <td>1.859459</td>\n",
       "      <td>0.283939</td>\n",
       "    </tr>\n",
       "    <tr>\n",
       "      <th>Q9Y5C1</th>\n",
       "      <td>1.338505</td>\n",
       "      <td>6.112417</td>\n",
       "      <td>0.031899</td>\n",
       "      <td>0.559426</td>\n",
       "      <td>0.878838</td>\n",
       "      <td>1.492852</td>\n",
       "      <td>2.582243</td>\n",
       "      <td>0.689908</td>\n",
       "      <td>4.498466</td>\n",
       "      <td>1.085099</td>\n",
       "      <td>4.154001</td>\n",
       "      <td>9.541268</td>\n",
       "      <td>1.818306</td>\n",
       "      <td>2.497857</td>\n",
       "      <td>1.202041</td>\n",
       "      <td>1.731424</td>\n",
       "      <td>0.741759</td>\n",
       "      <td>0.854163</td>\n",
       "      <td>0.259882</td>\n",
       "      <td>0.974666</td>\n",
       "    </tr>\n",
       "  </tbody>\n",
       "</table>\n",
       "</div>"
      ],
      "text/plain": [
       "replicate  S10_Rep1  S10_Rep2   S1_Rep1   S1_Rep2   S2_Rep1   S2_Rep2  \\\n",
       "protein                                                                 \n",
       "E7EX29     0.977477  0.304410  0.526654  0.127130  5.199028  2.109347   \n",
       "P03950     0.075187  0.907472  2.641508  2.071905  5.416919  2.144553   \n",
       "P05067     0.214809  5.155476  0.760780  1.976759  1.736841  2.491382   \n",
       "P08253     0.154020  0.447184  0.850043  0.641323  3.698615  1.103303   \n",
       "P15144     2.589447  4.405096  0.907281  1.863856  6.259852  3.825411   \n",
       "P27338     0.396244  6.107705  2.504065  0.397693  4.305065  0.094969   \n",
       "P52209     2.787344  0.758593  1.928400  0.132313  0.923237  3.015603   \n",
       "P62191     1.151451  0.770435  0.791281  1.820099  0.758876  2.282401   \n",
       "Q8N302     0.045530  2.592093  4.864815  0.542662  0.481945  2.445767   \n",
       "Q99460     8.307991  2.722858  0.035922  0.501800  0.195793  4.029438   \n",
       "Q9UJX5     3.204500  1.053998  7.875030  0.534928  0.876710  2.003304   \n",
       "Q9Y5C1     1.338505  6.112417  0.031899  0.559426  0.878838  1.492852   \n",
       "\n",
       "replicate   S3_Rep1   S3_Rep2   S4_Rep1   S4_Rep2   S5_Rep1   S5_Rep2  \\\n",
       "protein                                                                 \n",
       "E7EX29     2.249255  0.108401  0.875591  1.028805  0.920000  0.042764   \n",
       "P03950     0.901242  1.282467  2.578389  0.182659  0.157544  0.658971   \n",
       "P05067     0.790444  0.544351  6.843504  1.913787  7.910964  3.857954   \n",
       "P08253     0.076704  1.398809  2.013129  5.660915  4.112593  2.451870   \n",
       "P15144     5.288734  1.098613  0.540793  2.428891  0.195651  1.039652   \n",
       "P27338     0.788371  2.723448  0.396713  0.302483  3.477549  1.194654   \n",
       "P52209     1.805835  2.898382  0.208677  1.478625  1.456573  0.180620   \n",
       "P62191     0.675158  1.502792  0.352030  3.477358  3.310814  2.273665   \n",
       "Q8N302     4.673145  0.262777  5.679859  1.359762  0.520990  1.011805   \n",
       "Q99460     4.635607  0.525992  7.392602  0.229223  1.037541  0.122106   \n",
       "Q9UJX5     1.054773  1.268148  0.455250  1.269770  0.749670  0.163776   \n",
       "Q9Y5C1     2.582243  0.689908  4.498466  1.085099  4.154001  9.541268   \n",
       "\n",
       "replicate   S6_Rep1   S6_Rep2   S7_Rep1   S7_Rep2   S8_Rep1    S8_Rep2  \\\n",
       "protein                                                                  \n",
       "E7EX29     4.221320  4.993079  0.691645  2.843608  2.702805  11.054266   \n",
       "P03950     0.752813  6.571444  2.805870  6.532070  7.965716   0.246137   \n",
       "P05067     1.874413  0.348689  2.120594  6.399730  0.904973   1.631184   \n",
       "P08253     0.587017  0.981799  0.649270  0.864091  1.813152   1.469418   \n",
       "P15144     3.192662  0.451817  0.316526  4.921793  0.587720   2.058128   \n",
       "P27338     0.836833  5.695107  7.138837  2.208008  0.561346   2.481271   \n",
       "P52209     1.046998  0.686258  2.455698  6.181536  9.570667   0.878119   \n",
       "P62191     0.658391  2.691015  0.432696  1.089667  0.147597   0.467557   \n",
       "Q8N302     2.345876  0.826695  0.725987  1.183249  0.033972   3.383350   \n",
       "Q99460     4.192949  0.951078  5.367599  2.079834  5.159862   1.068000   \n",
       "Q9UJX5     1.548252  1.626310  1.237483  0.256983  2.857613   1.433344   \n",
       "Q9Y5C1     1.818306  2.497857  1.202041  1.731424  0.741759   0.854163   \n",
       "\n",
       "replicate   S9_Rep1   S9_Rep2  \n",
       "protein                        \n",
       "E7EX29     0.056939  5.041705  \n",
       "P03950     5.003671  0.373763  \n",
       "P05067     0.301007  1.817747  \n",
       "P08253     0.608286  0.498515  \n",
       "P15144     3.562867  1.577427  \n",
       "P27338     3.406206  1.721506  \n",
       "P52209     0.005764  0.876215  \n",
       "P62191     0.604896  2.467717  \n",
       "Q8N302     0.567743  0.879773  \n",
       "Q99460     1.338310  0.235605  \n",
       "Q9UJX5     1.859459  0.283939  \n",
       "Q9Y5C1     0.259882  0.974666  "
      ]
     },
     "metadata": {},
     "output_type": "display_data"
    },
    {
     "name": "stdout",
     "output_type": "stream",
     "text": [
      "======\n",
      "Attribute: replicates_hq\n"
     ]
    },
    {
     "data": {
      "text/plain": [
       "None"
      ]
     },
     "metadata": {},
     "output_type": "display_data"
    },
    {
     "name": "stdout",
     "output_type": "stream",
     "text": [
      "======\n",
      "Attribute: trans_replicates_hq\n"
     ]
    },
    {
     "data": {
      "text/plain": [
       "None"
      ]
     },
     "metadata": {},
     "output_type": "display_data"
    },
    {
     "name": "stdout",
     "output_type": "stream",
     "text": [
      "======\n",
      "Attribute: sample_replicate_dictionary\n"
     ]
    },
    {
     "data": {
      "text/plain": [
       "{'S1': ['S1_Rep1', 'S1_Rep2'],\n",
       " 'S10': ['S10_Rep1', 'S10_Rep2'],\n",
       " 'S2': ['S2_Rep1', 'S2_Rep2'],\n",
       " 'S3': ['S3_Rep1', 'S3_Rep2'],\n",
       " 'S4': ['S4_Rep1', 'S4_Rep2'],\n",
       " 'S5': ['S5_Rep1', 'S5_Rep2'],\n",
       " 'S6': ['S6_Rep1', 'S6_Rep2'],\n",
       " 'S7': ['S7_Rep1', 'S7_Rep2'],\n",
       " 'S8': ['S8_Rep1', 'S8_Rep2'],\n",
       " 'S9': ['S9_Rep1', 'S9_Rep2']}"
      ]
     },
     "metadata": {},
     "output_type": "display_data"
    },
    {
     "name": "stdout",
     "output_type": "stream",
     "text": [
      "======\n",
      "Attribute: replicate_groups\n"
     ]
    },
    {
     "data": {
      "text/html": [
       "<div>\n",
       "<style scoped>\n",
       "    .dataframe tbody tr th:only-of-type {\n",
       "        vertical-align: middle;\n",
       "    }\n",
       "\n",
       "    .dataframe tbody tr th {\n",
       "        vertical-align: top;\n",
       "    }\n",
       "\n",
       "    .dataframe thead th {\n",
       "        text-align: right;\n",
       "    }\n",
       "</style>\n",
       "<table border=\"1\" class=\"dataframe\">\n",
       "  <thead>\n",
       "    <tr style=\"text-align: right;\">\n",
       "      <th>replicate</th>\n",
       "      <th>S10_Rep1</th>\n",
       "      <th>S10_Rep2</th>\n",
       "      <th>S1_Rep1</th>\n",
       "      <th>S1_Rep2</th>\n",
       "      <th>S2_Rep1</th>\n",
       "      <th>S2_Rep2</th>\n",
       "      <th>S3_Rep1</th>\n",
       "      <th>S3_Rep2</th>\n",
       "      <th>S4_Rep1</th>\n",
       "      <th>S4_Rep2</th>\n",
       "      <th>S5_Rep1</th>\n",
       "      <th>S5_Rep2</th>\n",
       "      <th>S6_Rep1</th>\n",
       "      <th>S6_Rep2</th>\n",
       "      <th>S7_Rep1</th>\n",
       "      <th>S7_Rep2</th>\n",
       "      <th>S8_Rep1</th>\n",
       "      <th>S8_Rep2</th>\n",
       "      <th>S9_Rep1</th>\n",
       "      <th>S9_Rep2</th>\n",
       "    </tr>\n",
       "    <tr>\n",
       "      <th>group</th>\n",
       "      <th></th>\n",
       "      <th></th>\n",
       "      <th></th>\n",
       "      <th></th>\n",
       "      <th></th>\n",
       "      <th></th>\n",
       "      <th></th>\n",
       "      <th></th>\n",
       "      <th></th>\n",
       "      <th></th>\n",
       "      <th></th>\n",
       "      <th></th>\n",
       "      <th></th>\n",
       "      <th></th>\n",
       "      <th></th>\n",
       "      <th></th>\n",
       "      <th></th>\n",
       "      <th></th>\n",
       "      <th></th>\n",
       "      <th></th>\n",
       "    </tr>\n",
       "  </thead>\n",
       "  <tbody>\n",
       "    <tr>\n",
       "      <th>cov</th>\n",
       "      <td>0</td>\n",
       "      <td>0</td>\n",
       "      <td>1</td>\n",
       "      <td>1</td>\n",
       "      <td>1</td>\n",
       "      <td>1</td>\n",
       "      <td>0</td>\n",
       "      <td>0</td>\n",
       "      <td>0</td>\n",
       "      <td>0</td>\n",
       "      <td>0</td>\n",
       "      <td>0</td>\n",
       "      <td>0</td>\n",
       "      <td>0</td>\n",
       "      <td>0</td>\n",
       "      <td>0</td>\n",
       "      <td>0</td>\n",
       "      <td>0</td>\n",
       "      <td>0</td>\n",
       "      <td>0</td>\n",
       "    </tr>\n",
       "    <tr>\n",
       "      <th>ref</th>\n",
       "      <td>1</td>\n",
       "      <td>1</td>\n",
       "      <td>0</td>\n",
       "      <td>0</td>\n",
       "      <td>0</td>\n",
       "      <td>0</td>\n",
       "      <td>0</td>\n",
       "      <td>0</td>\n",
       "      <td>0</td>\n",
       "      <td>0</td>\n",
       "      <td>0</td>\n",
       "      <td>0</td>\n",
       "      <td>1</td>\n",
       "      <td>1</td>\n",
       "      <td>1</td>\n",
       "      <td>1</td>\n",
       "      <td>1</td>\n",
       "      <td>1</td>\n",
       "      <td>1</td>\n",
       "      <td>1</td>\n",
       "    </tr>\n",
       "    <tr>\n",
       "      <th>trt</th>\n",
       "      <td>0</td>\n",
       "      <td>0</td>\n",
       "      <td>1</td>\n",
       "      <td>1</td>\n",
       "      <td>1</td>\n",
       "      <td>1</td>\n",
       "      <td>1</td>\n",
       "      <td>1</td>\n",
       "      <td>1</td>\n",
       "      <td>1</td>\n",
       "      <td>1</td>\n",
       "      <td>1</td>\n",
       "      <td>0</td>\n",
       "      <td>0</td>\n",
       "      <td>0</td>\n",
       "      <td>0</td>\n",
       "      <td>0</td>\n",
       "      <td>0</td>\n",
       "      <td>0</td>\n",
       "      <td>0</td>\n",
       "    </tr>\n",
       "  </tbody>\n",
       "</table>\n",
       "</div>"
      ],
      "text/plain": [
       "replicate  S10_Rep1  S10_Rep2  S1_Rep1  S1_Rep2  S2_Rep1  S2_Rep2  S3_Rep1  \\\n",
       "group                                                                        \n",
       "cov               0         0        1        1        1        1        0   \n",
       "ref               1         1        0        0        0        0        0   \n",
       "trt               0         0        1        1        1        1        1   \n",
       "\n",
       "replicate  S3_Rep2  S4_Rep1  S4_Rep2  S5_Rep1  S5_Rep2  S6_Rep1  S6_Rep2  \\\n",
       "group                                                                      \n",
       "cov              0        0        0        0        0        0        0   \n",
       "ref              0        0        0        0        0        1        1   \n",
       "trt              1        1        1        1        1        0        0   \n",
       "\n",
       "replicate  S7_Rep1  S7_Rep2  S8_Rep1  S8_Rep2  S9_Rep1  S9_Rep2  \n",
       "group                                                            \n",
       "cov              0        0        0        0        0        0  \n",
       "ref              1        1        1        1        1        1  \n",
       "trt              0        0        0        0        0        0  "
      ]
     },
     "metadata": {},
     "output_type": "display_data"
    },
    {
     "name": "stdout",
     "output_type": "stream",
     "text": [
      "======\n",
      "Attribute: replicates\n"
     ]
    },
    {
     "data": {
      "text/plain": [
       "['S10_Rep1',\n",
       " 'S10_Rep2',\n",
       " 'S1_Rep1',\n",
       " 'S1_Rep2',\n",
       " 'S2_Rep1',\n",
       " 'S2_Rep2',\n",
       " 'S3_Rep1',\n",
       " 'S3_Rep2',\n",
       " 'S4_Rep1',\n",
       " 'S4_Rep2',\n",
       " 'S5_Rep1',\n",
       " 'S5_Rep2',\n",
       " 'S6_Rep1',\n",
       " 'S6_Rep2',\n",
       " 'S7_Rep1',\n",
       " 'S7_Rep2',\n",
       " 'S8_Rep1',\n",
       " 'S8_Rep2',\n",
       " 'S9_Rep1',\n",
       " 'S9_Rep2']"
      ]
     },
     "metadata": {},
     "output_type": "display_data"
    },
    {
     "name": "stdout",
     "output_type": "stream",
     "text": [
      "======\n",
      "Attribute: samples_file\n"
     ]
    },
    {
     "data": {
      "text/plain": [
       "None"
      ]
     },
     "metadata": {},
     "output_type": "display_data"
    },
    {
     "name": "stdout",
     "output_type": "stream",
     "text": [
      "======\n",
      "Attribute: sample_groups_file\n"
     ]
    },
    {
     "data": {
      "text/plain": [
       "'./sample_data/df_sample_groups.tsv'"
      ]
     },
     "metadata": {},
     "output_type": "display_data"
    },
    {
     "name": "stdout",
     "output_type": "stream",
     "text": [
      "======\n",
      "Attribute: raw_samples\n"
     ]
    },
    {
     "data": {
      "text/html": [
       "<div>\n",
       "<style scoped>\n",
       "    .dataframe tbody tr th:only-of-type {\n",
       "        vertical-align: middle;\n",
       "    }\n",
       "\n",
       "    .dataframe tbody tr th {\n",
       "        vertical-align: top;\n",
       "    }\n",
       "\n",
       "    .dataframe thead th {\n",
       "        text-align: right;\n",
       "    }\n",
       "</style>\n",
       "<table border=\"1\" class=\"dataframe\">\n",
       "  <thead>\n",
       "    <tr style=\"text-align: right;\">\n",
       "      <th>sample</th>\n",
       "      <th>S10</th>\n",
       "      <th>S1</th>\n",
       "      <th>S2</th>\n",
       "      <th>S3</th>\n",
       "      <th>S4</th>\n",
       "      <th>S5</th>\n",
       "      <th>S6</th>\n",
       "      <th>S7</th>\n",
       "      <th>S8</th>\n",
       "      <th>S9</th>\n",
       "    </tr>\n",
       "    <tr>\n",
       "      <th>protein</th>\n",
       "      <th></th>\n",
       "      <th></th>\n",
       "      <th></th>\n",
       "      <th></th>\n",
       "      <th></th>\n",
       "      <th></th>\n",
       "      <th></th>\n",
       "      <th></th>\n",
       "      <th></th>\n",
       "      <th></th>\n",
       "    </tr>\n",
       "  </thead>\n",
       "  <tbody>\n",
       "    <tr>\n",
       "      <th>E7EX29</th>\n",
       "      <td>0.640943</td>\n",
       "      <td>0.326892</td>\n",
       "      <td>3.654187</td>\n",
       "      <td>1.178828</td>\n",
       "      <td>0.952198</td>\n",
       "      <td>0.481382</td>\n",
       "      <td>4.607199</td>\n",
       "      <td>1.767626</td>\n",
       "      <td>6.878535</td>\n",
       "      <td>2.549322</td>\n",
       "    </tr>\n",
       "    <tr>\n",
       "      <th>P03950</th>\n",
       "      <td>0.491330</td>\n",
       "      <td>2.356706</td>\n",
       "      <td>3.780736</td>\n",
       "      <td>1.091855</td>\n",
       "      <td>1.380524</td>\n",
       "      <td>0.408258</td>\n",
       "      <td>3.662129</td>\n",
       "      <td>4.668970</td>\n",
       "      <td>4.105926</td>\n",
       "      <td>2.688717</td>\n",
       "    </tr>\n",
       "    <tr>\n",
       "      <th>P05067</th>\n",
       "      <td>2.685142</td>\n",
       "      <td>1.368769</td>\n",
       "      <td>2.114112</td>\n",
       "      <td>0.667397</td>\n",
       "      <td>4.378646</td>\n",
       "      <td>5.884459</td>\n",
       "      <td>1.111551</td>\n",
       "      <td>4.260162</td>\n",
       "      <td>1.268078</td>\n",
       "      <td>1.059377</td>\n",
       "    </tr>\n",
       "    <tr>\n",
       "      <th>P08253</th>\n",
       "      <td>0.300602</td>\n",
       "      <td>0.745683</td>\n",
       "      <td>2.400959</td>\n",
       "      <td>0.737756</td>\n",
       "      <td>3.837022</td>\n",
       "      <td>3.282232</td>\n",
       "      <td>0.784408</td>\n",
       "      <td>0.756681</td>\n",
       "      <td>1.641285</td>\n",
       "      <td>0.553400</td>\n",
       "    </tr>\n",
       "    <tr>\n",
       "      <th>P15144</th>\n",
       "      <td>3.497272</td>\n",
       "      <td>1.385568</td>\n",
       "      <td>5.042631</td>\n",
       "      <td>3.193673</td>\n",
       "      <td>1.484842</td>\n",
       "      <td>0.617652</td>\n",
       "      <td>1.822239</td>\n",
       "      <td>2.619160</td>\n",
       "      <td>1.322924</td>\n",
       "      <td>2.570147</td>\n",
       "    </tr>\n",
       "    <tr>\n",
       "      <th>P27338</th>\n",
       "      <td>3.251974</td>\n",
       "      <td>1.450879</td>\n",
       "      <td>2.200017</td>\n",
       "      <td>1.755909</td>\n",
       "      <td>0.349598</td>\n",
       "      <td>2.336102</td>\n",
       "      <td>3.265970</td>\n",
       "      <td>4.673422</td>\n",
       "      <td>1.521308</td>\n",
       "      <td>2.563856</td>\n",
       "    </tr>\n",
       "    <tr>\n",
       "      <th>P52209</th>\n",
       "      <td>1.772969</td>\n",
       "      <td>1.030356</td>\n",
       "      <td>1.969420</td>\n",
       "      <td>2.352108</td>\n",
       "      <td>0.843651</td>\n",
       "      <td>0.818597</td>\n",
       "      <td>0.866628</td>\n",
       "      <td>4.318617</td>\n",
       "      <td>5.224393</td>\n",
       "      <td>0.440989</td>\n",
       "    </tr>\n",
       "    <tr>\n",
       "      <th>P62191</th>\n",
       "      <td>0.960943</td>\n",
       "      <td>1.305690</td>\n",
       "      <td>1.520638</td>\n",
       "      <td>1.088975</td>\n",
       "      <td>1.914694</td>\n",
       "      <td>2.792240</td>\n",
       "      <td>1.674703</td>\n",
       "      <td>0.761181</td>\n",
       "      <td>0.307577</td>\n",
       "      <td>1.536306</td>\n",
       "    </tr>\n",
       "    <tr>\n",
       "      <th>Q8N302</th>\n",
       "      <td>1.318812</td>\n",
       "      <td>2.703738</td>\n",
       "      <td>1.463856</td>\n",
       "      <td>2.467961</td>\n",
       "      <td>3.519811</td>\n",
       "      <td>0.766398</td>\n",
       "      <td>1.586285</td>\n",
       "      <td>0.954618</td>\n",
       "      <td>1.708661</td>\n",
       "      <td>0.723758</td>\n",
       "    </tr>\n",
       "    <tr>\n",
       "      <th>Q99460</th>\n",
       "      <td>5.515424</td>\n",
       "      <td>0.268861</td>\n",
       "      <td>2.112616</td>\n",
       "      <td>2.580799</td>\n",
       "      <td>3.810912</td>\n",
       "      <td>0.579824</td>\n",
       "      <td>2.572014</td>\n",
       "      <td>3.723716</td>\n",
       "      <td>3.113931</td>\n",
       "      <td>0.786957</td>\n",
       "    </tr>\n",
       "    <tr>\n",
       "      <th>Q9UJX5</th>\n",
       "      <td>2.129249</td>\n",
       "      <td>4.204979</td>\n",
       "      <td>1.440007</td>\n",
       "      <td>1.161461</td>\n",
       "      <td>0.862510</td>\n",
       "      <td>0.456723</td>\n",
       "      <td>1.587281</td>\n",
       "      <td>0.747233</td>\n",
       "      <td>2.145478</td>\n",
       "      <td>1.071699</td>\n",
       "    </tr>\n",
       "    <tr>\n",
       "      <th>Q9Y5C1</th>\n",
       "      <td>3.725461</td>\n",
       "      <td>0.295662</td>\n",
       "      <td>1.185845</td>\n",
       "      <td>1.636076</td>\n",
       "      <td>2.791782</td>\n",
       "      <td>6.847634</td>\n",
       "      <td>2.158081</td>\n",
       "      <td>1.466733</td>\n",
       "      <td>0.797961</td>\n",
       "      <td>0.617274</td>\n",
       "    </tr>\n",
       "  </tbody>\n",
       "</table>\n",
       "</div>"
      ],
      "text/plain": [
       "sample        S10        S1        S2        S3        S4        S5        S6  \\\n",
       "protein                                                                         \n",
       "E7EX29   0.640943  0.326892  3.654187  1.178828  0.952198  0.481382  4.607199   \n",
       "P03950   0.491330  2.356706  3.780736  1.091855  1.380524  0.408258  3.662129   \n",
       "P05067   2.685142  1.368769  2.114112  0.667397  4.378646  5.884459  1.111551   \n",
       "P08253   0.300602  0.745683  2.400959  0.737756  3.837022  3.282232  0.784408   \n",
       "P15144   3.497272  1.385568  5.042631  3.193673  1.484842  0.617652  1.822239   \n",
       "P27338   3.251974  1.450879  2.200017  1.755909  0.349598  2.336102  3.265970   \n",
       "P52209   1.772969  1.030356  1.969420  2.352108  0.843651  0.818597  0.866628   \n",
       "P62191   0.960943  1.305690  1.520638  1.088975  1.914694  2.792240  1.674703   \n",
       "Q8N302   1.318812  2.703738  1.463856  2.467961  3.519811  0.766398  1.586285   \n",
       "Q99460   5.515424  0.268861  2.112616  2.580799  3.810912  0.579824  2.572014   \n",
       "Q9UJX5   2.129249  4.204979  1.440007  1.161461  0.862510  0.456723  1.587281   \n",
       "Q9Y5C1   3.725461  0.295662  1.185845  1.636076  2.791782  6.847634  2.158081   \n",
       "\n",
       "sample         S7        S8        S9  \n",
       "protein                                \n",
       "E7EX29   1.767626  6.878535  2.549322  \n",
       "P03950   4.668970  4.105926  2.688717  \n",
       "P05067   4.260162  1.268078  1.059377  \n",
       "P08253   0.756681  1.641285  0.553400  \n",
       "P15144   2.619160  1.322924  2.570147  \n",
       "P27338   4.673422  1.521308  2.563856  \n",
       "P52209   4.318617  5.224393  0.440989  \n",
       "P62191   0.761181  0.307577  1.536306  \n",
       "Q8N302   0.954618  1.708661  0.723758  \n",
       "Q99460   3.723716  3.113931  0.786957  \n",
       "Q9UJX5   0.747233  2.145478  1.071699  \n",
       "Q9Y5C1   1.466733  0.797961  0.617274  "
      ]
     },
     "metadata": {},
     "output_type": "display_data"
    },
    {
     "name": "stdout",
     "output_type": "stream",
     "text": [
      "======\n",
      "Attribute: samples_hq\n"
     ]
    },
    {
     "data": {
      "text/plain": [
       "None"
      ]
     },
     "metadata": {},
     "output_type": "display_data"
    },
    {
     "name": "stdout",
     "output_type": "stream",
     "text": [
      "======\n",
      "Attribute: trans_samples_hq\n"
     ]
    },
    {
     "data": {
      "text/plain": [
       "None"
      ]
     },
     "metadata": {},
     "output_type": "display_data"
    },
    {
     "name": "stdout",
     "output_type": "stream",
     "text": [
      "======\n",
      "Attribute: samples\n"
     ]
    },
    {
     "data": {
      "text/plain": [
       "['S10', 'S1', 'S2', 'S3', 'S4', 'S5', 'S6', 'S7', 'S8', 'S9']"
      ]
     },
     "metadata": {},
     "output_type": "display_data"
    },
    {
     "name": "stdout",
     "output_type": "stream",
     "text": [
      "======\n",
      "Attribute: sample_groups\n"
     ]
    },
    {
     "data": {
      "text/html": [
       "<div>\n",
       "<style scoped>\n",
       "    .dataframe tbody tr th:only-of-type {\n",
       "        vertical-align: middle;\n",
       "    }\n",
       "\n",
       "    .dataframe tbody tr th {\n",
       "        vertical-align: top;\n",
       "    }\n",
       "\n",
       "    .dataframe thead th {\n",
       "        text-align: right;\n",
       "    }\n",
       "</style>\n",
       "<table border=\"1\" class=\"dataframe\">\n",
       "  <thead>\n",
       "    <tr style=\"text-align: right;\">\n",
       "      <th>sample</th>\n",
       "      <th>S1</th>\n",
       "      <th>S10</th>\n",
       "      <th>S2</th>\n",
       "      <th>S3</th>\n",
       "      <th>S4</th>\n",
       "      <th>S5</th>\n",
       "      <th>S6</th>\n",
       "      <th>S7</th>\n",
       "      <th>S8</th>\n",
       "      <th>S9</th>\n",
       "    </tr>\n",
       "    <tr>\n",
       "      <th>group</th>\n",
       "      <th></th>\n",
       "      <th></th>\n",
       "      <th></th>\n",
       "      <th></th>\n",
       "      <th></th>\n",
       "      <th></th>\n",
       "      <th></th>\n",
       "      <th></th>\n",
       "      <th></th>\n",
       "      <th></th>\n",
       "    </tr>\n",
       "  </thead>\n",
       "  <tbody>\n",
       "    <tr>\n",
       "      <th>cov</th>\n",
       "      <td>1</td>\n",
       "      <td>0</td>\n",
       "      <td>1</td>\n",
       "      <td>0</td>\n",
       "      <td>0</td>\n",
       "      <td>0</td>\n",
       "      <td>0</td>\n",
       "      <td>0</td>\n",
       "      <td>0</td>\n",
       "      <td>0</td>\n",
       "    </tr>\n",
       "    <tr>\n",
       "      <th>ref</th>\n",
       "      <td>0</td>\n",
       "      <td>1</td>\n",
       "      <td>0</td>\n",
       "      <td>0</td>\n",
       "      <td>0</td>\n",
       "      <td>0</td>\n",
       "      <td>1</td>\n",
       "      <td>1</td>\n",
       "      <td>1</td>\n",
       "      <td>1</td>\n",
       "    </tr>\n",
       "    <tr>\n",
       "      <th>trt</th>\n",
       "      <td>1</td>\n",
       "      <td>0</td>\n",
       "      <td>1</td>\n",
       "      <td>1</td>\n",
       "      <td>1</td>\n",
       "      <td>1</td>\n",
       "      <td>0</td>\n",
       "      <td>0</td>\n",
       "      <td>0</td>\n",
       "      <td>0</td>\n",
       "    </tr>\n",
       "  </tbody>\n",
       "</table>\n",
       "</div>"
      ],
      "text/plain": [
       "sample  S1  S10  S2  S3  S4  S5  S6  S7  S8  S9\n",
       "group                                          \n",
       "cov      1    0   1   0   0   0   0   0   0   0\n",
       "ref      0    1   0   0   0   0   1   1   1   1\n",
       "trt      1    0   1   1   1   1   0   0   0   0"
      ]
     },
     "metadata": {},
     "output_type": "display_data"
    },
    {
     "name": "stdout",
     "output_type": "stream",
     "text": [
      "======\n",
      "Attribute: groups\n"
     ]
    },
    {
     "data": {
      "text/plain": [
       "array(['cov', 'ref', 'trt'], dtype=object)"
      ]
     },
     "metadata": {},
     "output_type": "display_data"
    },
    {
     "name": "stdout",
     "output_type": "stream",
     "text": [
      "======\n",
      "Attribute: markers\n"
     ]
    },
    {
     "data": {
      "text/plain": [
       "['E7EX29',\n",
       " 'P03950',\n",
       " 'P05067',\n",
       " 'P08253',\n",
       " 'P15144',\n",
       " 'P27338',\n",
       " 'P52209',\n",
       " 'P62191',\n",
       " 'Q8N302',\n",
       " 'Q99460',\n",
       " 'Q9UJX5',\n",
       " 'Q9Y5C1']"
      ]
     },
     "metadata": {},
     "output_type": "display_data"
    }
   ],
   "source": [
    "for attribute in c.__dict__.keys():\n",
    "    attr = getattr(c,attribute)\n",
    "    print(\"======\")\n",
    "    print(\"Attribute:\",attribute)\n",
    "    display(attr)"
   ]
  },
  {
   "cell_type": "markdown",
   "metadata": {},
   "source": [
    "For each cohort object, there are attributes that:\n",
    "\n",
    "* define the location of the input data,\n",
    "* store fields parsed from the input data, such proteins, samples, datasets (as pandas dataframes), etc. \n",
    "* store further processed data (these fields, the *\\_hq attributes, are currently empty). These would be filled after an additional processing step outlined below \n",
    "* store cohort-specific data in a dictionary (these are currently empty and can be filled according to the user)."
   ]
  },
  {
   "cell_type": "markdown",
   "metadata": {},
   "source": [
    "For further processing the data, we would like to transform (or not) the replicate dataset and transform (or not) the samples dataset. \n",
    "\n",
    "Below all we do is agregate the replicates of a sample by taking the average:"
   ]
  },
  {
   "cell_type": "code",
   "execution_count": 6,
   "metadata": {},
   "outputs": [],
   "source": [
    "c.set_replicates_hq(all_reps_quant=True)\n",
    "c.set_trans_replicates_hq()\n",
    "c.set_samples_hq()\n",
    "c.set_trans_samples_hq()"
   ]
  },
  {
   "cell_type": "markdown",
   "metadata": {},
   "source": [
    "Let's say I want to make sure atleast one replicate per sample was quantified, average all replicates per sample, and then log2 transform the sample data"
   ]
  },
  {
   "cell_type": "code",
   "execution_count": 7,
   "metadata": {},
   "outputs": [],
   "source": [
    "c.set_replicates_hq(quant_least_reps_per_samps=True,n_reps=1)\n",
    "c.set_trans_replicates_hq()\n",
    "c.set_samples_hq(agg='mean')\n",
    "c.set_trans_samples_hq(trans='log2')"
   ]
  },
  {
   "cell_type": "markdown",
   "metadata": {},
   "source": [
    "<hr>\n",
    "\n",
    "There are also some pre-baked analysis functions.\n",
    "\n",
    "For example, manual\\_feature\\_extraction will identify any proteins that are present/absent/mixed in samples of one condition or the other. The output is stored in the _data_ attribute and the attribute is 'mfe'"
   ]
  },
  {
   "cell_type": "code",
   "execution_count": 8,
   "metadata": {},
   "outputs": [
    {
     "name": "stdout",
     "output_type": "stream",
     "text": [
      "ref/cov\n",
      "ref/trt\n",
      "['main', 'helper']\n"
     ]
    },
    {
     "data": {
      "text/html": [
       "<div>\n",
       "<style scoped>\n",
       "    .dataframe tbody tr th:only-of-type {\n",
       "        vertical-align: middle;\n",
       "    }\n",
       "\n",
       "    .dataframe tbody tr th {\n",
       "        vertical-align: top;\n",
       "    }\n",
       "\n",
       "    .dataframe thead th {\n",
       "        text-align: right;\n",
       "    }\n",
       "</style>\n",
       "<table border=\"1\" class=\"dataframe\">\n",
       "  <thead>\n",
       "    <tr style=\"text-align: right;\">\n",
       "      <th></th>\n",
       "      <th>ref/cov</th>\n",
       "      <th>ref/trt</th>\n",
       "    </tr>\n",
       "  </thead>\n",
       "  <tbody>\n",
       "    <tr>\n",
       "      <th>allq_allq</th>\n",
       "      <td>12</td>\n",
       "      <td>12</td>\n",
       "    </tr>\n",
       "    <tr>\n",
       "      <th>allq_allnotq</th>\n",
       "      <td>0</td>\n",
       "      <td>0</td>\n",
       "    </tr>\n",
       "    <tr>\n",
       "      <th>allq_mixed</th>\n",
       "      <td>0</td>\n",
       "      <td>0</td>\n",
       "    </tr>\n",
       "    <tr>\n",
       "      <th>allnotq_allq</th>\n",
       "      <td>0</td>\n",
       "      <td>0</td>\n",
       "    </tr>\n",
       "    <tr>\n",
       "      <th>allnotq_allnotq</th>\n",
       "      <td>0</td>\n",
       "      <td>0</td>\n",
       "    </tr>\n",
       "    <tr>\n",
       "      <th>allnotq_mixed</th>\n",
       "      <td>0</td>\n",
       "      <td>0</td>\n",
       "    </tr>\n",
       "    <tr>\n",
       "      <th>mixed_allq</th>\n",
       "      <td>0</td>\n",
       "      <td>0</td>\n",
       "    </tr>\n",
       "    <tr>\n",
       "      <th>mixed_allnotq</th>\n",
       "      <td>0</td>\n",
       "      <td>0</td>\n",
       "    </tr>\n",
       "    <tr>\n",
       "      <th>mixed_mixed</th>\n",
       "      <td>0</td>\n",
       "      <td>0</td>\n",
       "    </tr>\n",
       "  </tbody>\n",
       "</table>\n",
       "</div>"
      ],
      "text/plain": [
       "                 ref/cov  ref/trt\n",
       "allq_allq             12       12\n",
       "allq_allnotq           0        0\n",
       "allq_mixed             0        0\n",
       "allnotq_allq           0        0\n",
       "allnotq_allnotq        0        0\n",
       "allnotq_mixed          0        0\n",
       "mixed_allq             0        0\n",
       "mixed_allnotq          0        0\n",
       "mixed_mixed            0        0"
      ]
     },
     "metadata": {},
     "output_type": "display_data"
    }
   ],
   "source": [
    "c.set_ref('ref')\n",
    "c.set_treat('trt')\n",
    "c.manual_feature_extraction(c.samples_hq)\n",
    "print([a for a in c.data['mfe'].keys()])\n",
    "display(c.data['mfe']['main']['df_len'])"
   ]
  },
  {
   "cell_type": "markdown",
   "metadata": {},
   "source": [
    "we can view and access sets of proteins exhibiting a certain pattern as below"
   ]
  },
  {
   "cell_type": "code",
   "execution_count": 9,
   "metadata": {
    "scrolled": false
   },
   "outputs": [
    {
     "data": {
      "text/html": [
       "<div>\n",
       "<style scoped>\n",
       "    .dataframe tbody tr th:only-of-type {\n",
       "        vertical-align: middle;\n",
       "    }\n",
       "\n",
       "    .dataframe tbody tr th {\n",
       "        vertical-align: top;\n",
       "    }\n",
       "\n",
       "    .dataframe thead th {\n",
       "        text-align: right;\n",
       "    }\n",
       "</style>\n",
       "<table border=\"1\" class=\"dataframe\">\n",
       "  <thead>\n",
       "    <tr style=\"text-align: right;\">\n",
       "      <th></th>\n",
       "      <th>ref/cov</th>\n",
       "      <th>ref/trt</th>\n",
       "    </tr>\n",
       "  </thead>\n",
       "  <tbody>\n",
       "    <tr>\n",
       "      <th>ref/cov</th>\n",
       "      <td>0</td>\n",
       "      <td>0</td>\n",
       "    </tr>\n",
       "    <tr>\n",
       "      <th>ref/trt</th>\n",
       "      <td>0</td>\n",
       "      <td>0</td>\n",
       "    </tr>\n",
       "  </tbody>\n",
       "</table>\n",
       "</div>"
      ],
      "text/plain": [
       "        ref/cov ref/trt\n",
       "ref/cov       0       0\n",
       "ref/trt       0       0"
      ]
     },
     "metadata": {},
     "output_type": "display_data"
    },
    {
     "data": {
      "text/html": [
       "<div>\n",
       "<style scoped>\n",
       "    .dataframe tbody tr th:only-of-type {\n",
       "        vertical-align: middle;\n",
       "    }\n",
       "\n",
       "    .dataframe tbody tr th {\n",
       "        vertical-align: top;\n",
       "    }\n",
       "\n",
       "    .dataframe thead th {\n",
       "        text-align: right;\n",
       "    }\n",
       "</style>\n",
       "<table border=\"1\" class=\"dataframe\">\n",
       "  <thead>\n",
       "    <tr style=\"text-align: right;\">\n",
       "      <th></th>\n",
       "      <th>ref/cov</th>\n",
       "      <th>ref/trt</th>\n",
       "    </tr>\n",
       "  </thead>\n",
       "  <tbody>\n",
       "    <tr>\n",
       "      <th>ref/cov</th>\n",
       "      <td>0</td>\n",
       "      <td>0</td>\n",
       "    </tr>\n",
       "    <tr>\n",
       "      <th>ref/trt</th>\n",
       "      <td>0</td>\n",
       "      <td>0</td>\n",
       "    </tr>\n",
       "  </tbody>\n",
       "</table>\n",
       "</div>"
      ],
      "text/plain": [
       "        ref/cov ref/trt\n",
       "ref/cov       0       0\n",
       "ref/trt       0       0"
      ]
     },
     "metadata": {},
     "output_type": "display_data"
    },
    {
     "data": {
      "text/html": [
       "<div>\n",
       "<style scoped>\n",
       "    .dataframe tbody tr th:only-of-type {\n",
       "        vertical-align: middle;\n",
       "    }\n",
       "\n",
       "    .dataframe tbody tr th {\n",
       "        vertical-align: top;\n",
       "    }\n",
       "\n",
       "    .dataframe thead th {\n",
       "        text-align: right;\n",
       "    }\n",
       "</style>\n",
       "<table border=\"1\" class=\"dataframe\">\n",
       "  <thead>\n",
       "    <tr style=\"text-align: right;\">\n",
       "      <th></th>\n",
       "      <th>ref/cov</th>\n",
       "      <th>ref/trt</th>\n",
       "    </tr>\n",
       "  </thead>\n",
       "  <tbody>\n",
       "    <tr>\n",
       "      <th>ref/cov</th>\n",
       "      <td>0</td>\n",
       "      <td>0</td>\n",
       "    </tr>\n",
       "    <tr>\n",
       "      <th>ref/trt</th>\n",
       "      <td>0</td>\n",
       "      <td>0</td>\n",
       "    </tr>\n",
       "  </tbody>\n",
       "</table>\n",
       "</div>"
      ],
      "text/plain": [
       "        ref/cov ref/trt\n",
       "ref/cov       0       0\n",
       "ref/trt       0       0"
      ]
     },
     "metadata": {},
     "output_type": "display_data"
    },
    {
     "data": {
      "text/html": [
       "<div>\n",
       "<style scoped>\n",
       "    .dataframe tbody tr th:only-of-type {\n",
       "        vertical-align: middle;\n",
       "    }\n",
       "\n",
       "    .dataframe tbody tr th {\n",
       "        vertical-align: top;\n",
       "    }\n",
       "\n",
       "    .dataframe thead th {\n",
       "        text-align: right;\n",
       "    }\n",
       "</style>\n",
       "<table border=\"1\" class=\"dataframe\">\n",
       "  <thead>\n",
       "    <tr style=\"text-align: right;\">\n",
       "      <th></th>\n",
       "      <th>ref/cov</th>\n",
       "      <th>ref/trt</th>\n",
       "    </tr>\n",
       "  </thead>\n",
       "  <tbody>\n",
       "    <tr>\n",
       "      <th>ref/cov</th>\n",
       "      <td>0</td>\n",
       "      <td>0</td>\n",
       "    </tr>\n",
       "    <tr>\n",
       "      <th>ref/trt</th>\n",
       "      <td>0</td>\n",
       "      <td>0</td>\n",
       "    </tr>\n",
       "  </tbody>\n",
       "</table>\n",
       "</div>"
      ],
      "text/plain": [
       "        ref/cov ref/trt\n",
       "ref/cov       0       0\n",
       "ref/trt       0       0"
      ]
     },
     "metadata": {},
     "output_type": "display_data"
    },
    {
     "name": "stdout",
     "output_type": "stream",
     "text": [
      "set()\n"
     ]
    }
   ],
   "source": [
    "display(c.data['mfe']['helper']['allq_allq']['df_len'])\n",
    "display(c.data['mfe']['helper']['allnotq_allnotq']['df_len'])\n",
    "display(c.data['mfe']['helper']['allq_allnotq']['df_len'])\n",
    "display(c.data['mfe']['helper']['allnotq_allq']['df_len'])\n",
    "print(c.data['mfe']['helper']['allnotq_allq']['df_arr'].iloc[0,0])"
   ]
  },
  {
   "cell_type": "markdown",
   "metadata": {},
   "source": [
    "we can also perform some parametric/nonparametric hypothesis testing"
   ]
  },
  {
   "cell_type": "code",
   "execution_count": 10,
   "metadata": {
    "scrolled": false
   },
   "outputs": [
    {
     "name": "stdout",
     "output_type": "stream",
     "text": [
      "[('t-test', <function ttest_ind at 0x180c4a4620>), ('Wilcoxon_RankSum_test', <function ranksums at 0x180c4a6c80>)]\n",
      "[('t-test', <function ttest_ind at 0x180c4a4620>), ('Wilcoxon_RankSum_test', <function ranksums at 0x180c4a6c80>), ('ks_2samp', <function kruskal at 0x180c48a0d0>)]\n",
      "A list of statistical tests are required. For example: [( \"t-test\",scipy.stats.ttest_ind )]. More than one can be given.\n"
     ]
    },
    {
     "data": {
      "text/html": [
       "<div>\n",
       "<style scoped>\n",
       "    .dataframe tbody tr th:only-of-type {\n",
       "        vertical-align: middle;\n",
       "    }\n",
       "\n",
       "    .dataframe tbody tr th {\n",
       "        vertical-align: top;\n",
       "    }\n",
       "\n",
       "    .dataframe thead th {\n",
       "        text-align: right;\n",
       "    }\n",
       "</style>\n",
       "<table border=\"1\" class=\"dataframe\">\n",
       "  <thead>\n",
       "    <tr style=\"text-align: right;\">\n",
       "      <th></th>\n",
       "      <th>protein</th>\n",
       "      <th>test</th>\n",
       "      <th>pvalue</th>\n",
       "      <th>statistic</th>\n",
       "    </tr>\n",
       "  </thead>\n",
       "  <tbody>\n",
       "    <tr>\n",
       "      <th>0</th>\n",
       "      <td>protein</td>\n",
       "      <td>t-test</td>\n",
       "      <td>0.156775</td>\n",
       "      <td>1.562592</td>\n",
       "    </tr>\n",
       "    <tr>\n",
       "      <th>1</th>\n",
       "      <td>protein</td>\n",
       "      <td>t-test</td>\n",
       "      <td>0.197194</td>\n",
       "      <td>1.406564</td>\n",
       "    </tr>\n",
       "    <tr>\n",
       "      <th>2</th>\n",
       "      <td>protein</td>\n",
       "      <td>t-test</td>\n",
       "      <td>0.506047</td>\n",
       "      <td>-0.696160</td>\n",
       "    </tr>\n",
       "    <tr>\n",
       "      <th>3</th>\n",
       "      <td>protein</td>\n",
       "      <td>t-test</td>\n",
       "      <td>0.073529</td>\n",
       "      <td>-2.058517</td>\n",
       "    </tr>\n",
       "    <tr>\n",
       "      <th>4</th>\n",
       "      <td>protein</td>\n",
       "      <td>t-test</td>\n",
       "      <td>0.981081</td>\n",
       "      <td>0.024464</td>\n",
       "    </tr>\n",
       "    <tr>\n",
       "      <th>5</th>\n",
       "      <td>protein</td>\n",
       "      <td>t-test</td>\n",
       "      <td>0.050486</td>\n",
       "      <td>2.299811</td>\n",
       "    </tr>\n",
       "    <tr>\n",
       "      <th>6</th>\n",
       "      <td>protein</td>\n",
       "      <td>t-test</td>\n",
       "      <td>0.296437</td>\n",
       "      <td>1.116946</td>\n",
       "    </tr>\n",
       "    <tr>\n",
       "      <th>7</th>\n",
       "      <td>protein</td>\n",
       "      <td>t-test</td>\n",
       "      <td>0.122399</td>\n",
       "      <td>-1.727213</td>\n",
       "    </tr>\n",
       "    <tr>\n",
       "      <th>8</th>\n",
       "      <td>protein</td>\n",
       "      <td>t-test</td>\n",
       "      <td>0.111349</td>\n",
       "      <td>-1.789354</td>\n",
       "    </tr>\n",
       "    <tr>\n",
       "      <th>9</th>\n",
       "      <td>protein</td>\n",
       "      <td>t-test</td>\n",
       "      <td>0.243459</td>\n",
       "      <td>1.259187</td>\n",
       "    </tr>\n",
       "    <tr>\n",
       "      <th>10</th>\n",
       "      <td>protein</td>\n",
       "      <td>t-test</td>\n",
       "      <td>0.904944</td>\n",
       "      <td>-0.123257</td>\n",
       "    </tr>\n",
       "    <tr>\n",
       "      <th>11</th>\n",
       "      <td>protein</td>\n",
       "      <td>t-test</td>\n",
       "      <td>0.549475</td>\n",
       "      <td>-0.624845</td>\n",
       "    </tr>\n",
       "    <tr>\n",
       "      <th>12</th>\n",
       "      <td>protein</td>\n",
       "      <td>Wilcoxon_RankSum_test</td>\n",
       "      <td>0.117185</td>\n",
       "      <td>1.566699</td>\n",
       "    </tr>\n",
       "    <tr>\n",
       "      <th>13</th>\n",
       "      <td>protein</td>\n",
       "      <td>Wilcoxon_RankSum_test</td>\n",
       "      <td>0.174525</td>\n",
       "      <td>1.357806</td>\n",
       "    </tr>\n",
       "    <tr>\n",
       "      <th>14</th>\n",
       "      <td>protein</td>\n",
       "      <td>Wilcoxon_RankSum_test</td>\n",
       "      <td>0.464702</td>\n",
       "      <td>-0.731126</td>\n",
       "    </tr>\n",
       "    <tr>\n",
       "      <th>15</th>\n",
       "      <td>protein</td>\n",
       "      <td>Wilcoxon_RankSum_test</td>\n",
       "      <td>0.174525</td>\n",
       "      <td>-1.357806</td>\n",
       "    </tr>\n",
       "    <tr>\n",
       "      <th>16</th>\n",
       "      <td>protein</td>\n",
       "      <td>Wilcoxon_RankSum_test</td>\n",
       "      <td>0.754023</td>\n",
       "      <td>0.313340</td>\n",
       "    </tr>\n",
       "    <tr>\n",
       "      <th>17</th>\n",
       "      <td>protein</td>\n",
       "      <td>Wilcoxon_RankSum_test</td>\n",
       "      <td>0.047202</td>\n",
       "      <td>1.984485</td>\n",
       "    </tr>\n",
       "    <tr>\n",
       "      <th>18</th>\n",
       "      <td>protein</td>\n",
       "      <td>Wilcoxon_RankSum_test</td>\n",
       "      <td>0.601508</td>\n",
       "      <td>0.522233</td>\n",
       "    </tr>\n",
       "    <tr>\n",
       "      <th>19</th>\n",
       "      <td>protein</td>\n",
       "      <td>Wilcoxon_RankSum_test</td>\n",
       "      <td>0.174525</td>\n",
       "      <td>-1.357806</td>\n",
       "    </tr>\n",
       "    <tr>\n",
       "      <th>20</th>\n",
       "      <td>protein</td>\n",
       "      <td>Wilcoxon_RankSum_test</td>\n",
       "      <td>0.174525</td>\n",
       "      <td>-1.357806</td>\n",
       "    </tr>\n",
       "    <tr>\n",
       "      <th>21</th>\n",
       "      <td>protein</td>\n",
       "      <td>Wilcoxon_RankSum_test</td>\n",
       "      <td>0.250592</td>\n",
       "      <td>1.148913</td>\n",
       "    </tr>\n",
       "    <tr>\n",
       "      <th>22</th>\n",
       "      <td>protein</td>\n",
       "      <td>Wilcoxon_RankSum_test</td>\n",
       "      <td>0.601508</td>\n",
       "      <td>0.522233</td>\n",
       "    </tr>\n",
       "    <tr>\n",
       "      <th>23</th>\n",
       "      <td>protein</td>\n",
       "      <td>Wilcoxon_RankSum_test</td>\n",
       "      <td>0.754023</td>\n",
       "      <td>-0.313340</td>\n",
       "    </tr>\n",
       "    <tr>\n",
       "      <th>24</th>\n",
       "      <td>protein</td>\n",
       "      <td>ks_2samp</td>\n",
       "      <td>0.117185</td>\n",
       "      <td>2.454545</td>\n",
       "    </tr>\n",
       "    <tr>\n",
       "      <th>25</th>\n",
       "      <td>protein</td>\n",
       "      <td>ks_2samp</td>\n",
       "      <td>0.174525</td>\n",
       "      <td>1.843636</td>\n",
       "    </tr>\n",
       "    <tr>\n",
       "      <th>26</th>\n",
       "      <td>protein</td>\n",
       "      <td>ks_2samp</td>\n",
       "      <td>0.464702</td>\n",
       "      <td>0.534545</td>\n",
       "    </tr>\n",
       "    <tr>\n",
       "      <th>27</th>\n",
       "      <td>protein</td>\n",
       "      <td>ks_2samp</td>\n",
       "      <td>0.174525</td>\n",
       "      <td>1.843636</td>\n",
       "    </tr>\n",
       "    <tr>\n",
       "      <th>28</th>\n",
       "      <td>protein</td>\n",
       "      <td>ks_2samp</td>\n",
       "      <td>0.754023</td>\n",
       "      <td>0.098182</td>\n",
       "    </tr>\n",
       "    <tr>\n",
       "      <th>29</th>\n",
       "      <td>protein</td>\n",
       "      <td>ks_2samp</td>\n",
       "      <td>0.047202</td>\n",
       "      <td>3.938182</td>\n",
       "    </tr>\n",
       "    <tr>\n",
       "      <th>30</th>\n",
       "      <td>protein</td>\n",
       "      <td>ks_2samp</td>\n",
       "      <td>0.601508</td>\n",
       "      <td>0.272727</td>\n",
       "    </tr>\n",
       "    <tr>\n",
       "      <th>31</th>\n",
       "      <td>protein</td>\n",
       "      <td>ks_2samp</td>\n",
       "      <td>0.174525</td>\n",
       "      <td>1.843636</td>\n",
       "    </tr>\n",
       "    <tr>\n",
       "      <th>32</th>\n",
       "      <td>protein</td>\n",
       "      <td>ks_2samp</td>\n",
       "      <td>0.174525</td>\n",
       "      <td>1.843636</td>\n",
       "    </tr>\n",
       "    <tr>\n",
       "      <th>33</th>\n",
       "      <td>protein</td>\n",
       "      <td>ks_2samp</td>\n",
       "      <td>0.250592</td>\n",
       "      <td>1.320000</td>\n",
       "    </tr>\n",
       "    <tr>\n",
       "      <th>34</th>\n",
       "      <td>protein</td>\n",
       "      <td>ks_2samp</td>\n",
       "      <td>0.601508</td>\n",
       "      <td>0.272727</td>\n",
       "    </tr>\n",
       "    <tr>\n",
       "      <th>35</th>\n",
       "      <td>protein</td>\n",
       "      <td>ks_2samp</td>\n",
       "      <td>0.754023</td>\n",
       "      <td>0.098182</td>\n",
       "    </tr>\n",
       "  </tbody>\n",
       "</table>\n",
       "</div>"
      ],
      "text/plain": [
       "    protein                   test    pvalue  statistic\n",
       "0   protein                 t-test  0.156775   1.562592\n",
       "1   protein                 t-test  0.197194   1.406564\n",
       "2   protein                 t-test  0.506047  -0.696160\n",
       "3   protein                 t-test  0.073529  -2.058517\n",
       "4   protein                 t-test  0.981081   0.024464\n",
       "5   protein                 t-test  0.050486   2.299811\n",
       "6   protein                 t-test  0.296437   1.116946\n",
       "7   protein                 t-test  0.122399  -1.727213\n",
       "8   protein                 t-test  0.111349  -1.789354\n",
       "9   protein                 t-test  0.243459   1.259187\n",
       "10  protein                 t-test  0.904944  -0.123257\n",
       "11  protein                 t-test  0.549475  -0.624845\n",
       "12  protein  Wilcoxon_RankSum_test  0.117185   1.566699\n",
       "13  protein  Wilcoxon_RankSum_test  0.174525   1.357806\n",
       "14  protein  Wilcoxon_RankSum_test  0.464702  -0.731126\n",
       "15  protein  Wilcoxon_RankSum_test  0.174525  -1.357806\n",
       "16  protein  Wilcoxon_RankSum_test  0.754023   0.313340\n",
       "17  protein  Wilcoxon_RankSum_test  0.047202   1.984485\n",
       "18  protein  Wilcoxon_RankSum_test  0.601508   0.522233\n",
       "19  protein  Wilcoxon_RankSum_test  0.174525  -1.357806\n",
       "20  protein  Wilcoxon_RankSum_test  0.174525  -1.357806\n",
       "21  protein  Wilcoxon_RankSum_test  0.250592   1.148913\n",
       "22  protein  Wilcoxon_RankSum_test  0.601508   0.522233\n",
       "23  protein  Wilcoxon_RankSum_test  0.754023  -0.313340\n",
       "24  protein               ks_2samp  0.117185   2.454545\n",
       "25  protein               ks_2samp  0.174525   1.843636\n",
       "26  protein               ks_2samp  0.464702   0.534545\n",
       "27  protein               ks_2samp  0.174525   1.843636\n",
       "28  protein               ks_2samp  0.754023   0.098182\n",
       "29  protein               ks_2samp  0.047202   3.938182\n",
       "30  protein               ks_2samp  0.601508   0.272727\n",
       "31  protein               ks_2samp  0.174525   1.843636\n",
       "32  protein               ks_2samp  0.174525   1.843636\n",
       "33  protein               ks_2samp  0.250592   1.320000\n",
       "34  protein               ks_2samp  0.601508   0.272727\n",
       "35  protein               ks_2samp  0.754023   0.098182"
      ]
     },
     "execution_count": 10,
     "metadata": {},
     "output_type": "execute_result"
    }
   ],
   "source": [
    "import scipy\n",
    "\n",
    "#two tests, the t-test and wilcoxon rank sum test, is used within each object (try c.tests) if none are given explicitly\n",
    "print(c.tests)\n",
    "\n",
    "#add another test to a new test list\n",
    "tests = c.tests.copy()\n",
    "tests.append(('ks_2samp',scipy.stats.kruskal))\n",
    "print(tests)\n",
    "#two tests, the t-test and wilcoxon rank sum test, is used within each object (try c.tests) if none are given explicitly\n",
    "\n",
    "\n",
    "ht = c.hypothesis_testing(df=c.samples_hq,df_groups=c.sample_groups,tests=tests)\n",
    "ht"
   ]
  },
  {
   "cell_type": "markdown",
   "metadata": {},
   "source": [
    "Here's some examples extracting data using cohort object attributes and plotting with object data"
   ]
  },
  {
   "cell_type": "code",
   "execution_count": 11,
   "metadata": {},
   "outputs": [
    {
     "data": {
      "image/png": "[encoded data removed]",
      "text/plain": [
       "<matplotlib.figure.Figure at 0x1a0d208be0>"
      ]
     },
     "metadata": {},
     "output_type": "display_data"
    }
   ],
   "source": [
    "%matplotlib inline\n",
    "import matplotlib.pylab as plt\n",
    "import seaborn as sns\n",
    "df_samples = c.raw_samples.apply(lambda x: np.log2(x))\n",
    "for n in range(0,df_samples.shape[1],1):\n",
    "    sns.distplot(df_samples.iloc[:,n])\n",
    "plt.xlabel('log2 of protein values')\n",
    "plt.title('Sample distributions')\n",
    "sns.despine()"
   ]
  },
  {
   "cell_type": "code",
   "execution_count": 12,
   "metadata": {},
   "outputs": [
    {
     "data": {
      "image/png": "[encoded data removed]",
      "text/plain": [
       "<matplotlib.figure.Figure at 0x1a0c8b4390>"
      ]
     },
     "metadata": {},
     "output_type": "display_data"
    }
   ],
   "source": [
    "df_replicates = c.raw_replicates.fillna(0).apply(np.log2)\n",
    "for n in range(0,df_replicates.shape[0],1):\n",
    "    sns.distplot(df_replicates.iloc[:,n])\n",
    "plt.xlabel('log2 of protein values')\n",
    "plt.title('Replicate distributions')\n",
    "sns.despine()"
   ]
  },
  {
   "cell_type": "markdown",
   "metadata": {},
   "source": [
    "These are just a few examples of what could be done with the package. For further information please view the source code. If you have any questions or code modifications, submit an issue or even a pull request!"
   ]
  }
 ],
 "metadata": {
  "kernelspec": {
   "display_name": "Python [conda env:cohorts_test]",
   "language": "python",
   "name": "conda-env-cohorts_test-py"
  },
  "language_info": {
   "codemirror_mode": {
    "name": "ipython",
    "version": 3
   },
   "file_extension": ".py",
   "mimetype": "text/x-python",
   "name": "python",
   "nbconvert_exporter": "python",
   "pygments_lexer": "ipython3",
   "version": "3.6.4"
  }
 },
 "nbformat": 4,
 "nbformat_minor": 2
}
